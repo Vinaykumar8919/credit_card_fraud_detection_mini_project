{
 "cells": [
  {
   "cell_type": "markdown",
   "id": "4e6ed85c",
   "metadata": {
    "id": "4e6ed85c",
    "papermill": {
     "duration": 0.032289,
     "end_time": "2022-12-30T14:05:08.944605",
     "exception": false,
     "start_time": "2022-12-30T14:05:08.912316",
     "status": "completed"
    },
    "tags": []
   },
   "source": [
    "## VinayKumar"
   ]
  },
  {
   "cell_type": "markdown",
   "id": "1YQJOUsFY-Yc",
   "metadata": {
    "id": "1YQJOUsFY-Yc"
   },
   "source": [
    "# 1. Problem Statement\n",
    "With the growth of e-commerce websites, people and financial companies rely on online services\n",
    "to carry out their transactions that have led to an exponential increase in the credit card frauds \n",
    "1. Fraudulent credit card transactions lead to a loss of huge amount of money. The design of an effective fraud detection system is necessary in order to reduce the losses incurred by the customers and financial companies\n",
    "2. Research has been done on many models and methods to\n",
    "prevent and detect credit card frauds. Some credit card fraud transaction datasets contain the problem of imbalance in datasets. A good fraud detection system should be able to identify the fraud transaction accurately and should make the detection possible in real-time transactions. "
   ]
  },
  {
   "cell_type": "markdown",
   "id": "81442683",
   "metadata": {
    "id": "81442683",
    "papermill": {
     "duration": 0.028964,
     "end_time": "2022-12-30T14:05:09.065555",
     "exception": false,
     "start_time": "2022-12-30T14:05:09.036591",
     "status": "completed"
    },
    "tags": []
   },
   "source": [
    "### About the Dataset\n",
    "This is a simulated credit card transaction dataset containing legitimate and fraud transactions from the duration 1st Jan 2019 - 31st Dec 2020. It covers credit cards of 1000 customers doing transactions with a pool of 800 merchants."
   ]
  },
  {
   "cell_type": "markdown",
   "id": "3424af2a",
   "metadata": {
    "id": "3424af2a",
    "papermill": {
     "duration": 0.028884,
     "end_time": "2022-12-30T14:05:09.123730",
     "exception": false,
     "start_time": "2022-12-30T14:05:09.094846",
     "status": "completed"
    },
    "tags": []
   },
   "source": [
    "## Data Dictionary<br>\n",
    "trans_date_trans_time -> Transaction time stamp<br>\n",
    "cc_num -> Credit card number<br>\n",
    "merchant -> merchant name<br>\n",
    "category -> transaction category<br>\n",
    "amt -> Transaction amount<br>\n",
    "first -> First name of card holder<br>\n",
    "last -> Last name of card holder<br>\n",
    "gender -> Sex of card holder<br>\n",
    "street -> transaction address<br>\n",
    "city -> transaction city<br>\n",
    "state -> transaction state<br>\n",
    "zip -> transaction zipcode<br>\n",
    "lat -> transaction lattitude<br>\n",
    "long -> transaction longitude<br>\n",
    "city_pop -> Population of the city<br>\n",
    "job -> job of the card holder<br>\n",
    "dob -> date of birth of card holder<br>\n",
    "trans_num -> transaction number of transaction<br>\n",
    "unix_time -> time in unix format<br>\n",
    "merch_lat -> lattitude of the merchant<br>\n",
    "merch_long -> longitude of merchant<br>\n",
    "is_fraud -> nature of transaction (fraud or not fraud)<br>"
   ]
  },
  {
   "cell_type": "markdown",
   "id": "c79a648c",
   "metadata": {
    "id": "c79a648c",
    "papermill": {
     "duration": 0.029337,
     "end_time": "2022-12-30T14:05:09.183383",
     "exception": false,
     "start_time": "2022-12-30T14:05:09.154046",
     "status": "completed"
    },
    "tags": []
   },
   "source": [
    "## Our Goals:\n",
    "1. Understand the little distribution of the \"little\" data that was provided to us.\n",
    "2.Create a 50/50 sub-dataframe ratio of \"Fraud\" and \"Non-Fraud\" transactions. (NearMiss Algorithm)\n",
    "3. Determine the Classifiers we are going to use and decide which one has a higher accuracy."
   ]
  },
  {
   "cell_type": "markdown",
   "id": "f0fa44e3",
   "metadata": {
    "id": "f0fa44e3",
    "papermill": {
     "duration": 0.029199,
     "end_time": "2022-12-30T14:05:09.242519",
     "exception": false,
     "start_time": "2022-12-30T14:05:09.213320",
     "status": "completed"
    },
    "tags": []
   },
   "source": [
    "### 1. Import libraries"
   ]
  },
  {
   "cell_type": "markdown",
   "id": "2e40cf8d",
   "metadata": {
    "id": "2e40cf8d",
    "papermill": {
     "duration": 0.037094,
     "end_time": "2022-12-30T14:05:09.312977",
     "exception": false,
     "start_time": "2022-12-30T14:05:09.275883",
     "status": "completed"
    },
    "tags": []
   },
   "source": []
  },
  {
   "cell_type": "code",
   "execution_count": 7,
   "id": "74ecbfc7",
   "metadata": {
    "execution": {
     "iopub.execute_input": "2022-12-30T14:05:09.384124Z",
     "iopub.status.busy": "2022-12-30T14:05:09.383664Z",
     "iopub.status.idle": "2022-12-30T14:05:12.314910Z",
     "shell.execute_reply": "2022-12-30T14:05:12.313618Z"
    },
    "id": "74ecbfc7",
    "outputId": "f0963523-c5a2-4837-f3cf-6fda368c89d6",
    "papermill": {
     "duration": 3.044337,
     "end_time": "2022-12-30T14:05:12.395601",
     "exception": false,
     "start_time": "2022-12-30T14:05:09.351264",
     "status": "completed"
    },
    "tags": []
   },
   "outputs": [
    {
     "ename": "ModuleNotFoundError",
     "evalue": "No module named 'yellowbrick'",
     "output_type": "error",
     "traceback": [
      "\u001b[1;31m---------------------------------------------------------------------------\u001b[0m",
      "\u001b[1;31mModuleNotFoundError\u001b[0m                       Traceback (most recent call last)",
      "\u001b[1;32m~\\AppData\\Local\\Temp\\ipykernel_13264\\2082544651.py\u001b[0m in \u001b[0;36m<module>\u001b[1;34m\u001b[0m\n\u001b[0;32m     23\u001b[0m \u001b[1;31m# Model\u001b[0m\u001b[1;33m\u001b[0m\u001b[1;33m\u001b[0m\u001b[0m\n\u001b[0;32m     24\u001b[0m \u001b[1;32mfrom\u001b[0m \u001b[0mscipy\u001b[0m\u001b[1;33m.\u001b[0m\u001b[0mstats\u001b[0m \u001b[1;32mimport\u001b[0m \u001b[0mskew\u001b[0m\u001b[1;33m\u001b[0m\u001b[1;33m\u001b[0m\u001b[0m\n\u001b[1;32m---> 25\u001b[1;33m \u001b[1;32mimport\u001b[0m \u001b[0myellowbrick\u001b[0m\u001b[1;33m\u001b[0m\u001b[1;33m\u001b[0m\u001b[0m\n\u001b[0m\u001b[0;32m     26\u001b[0m \u001b[1;32mimport\u001b[0m \u001b[0msklearn\u001b[0m\u001b[1;33m\u001b[0m\u001b[1;33m\u001b[0m\u001b[0m\n\u001b[0;32m     27\u001b[0m \u001b[1;32mfrom\u001b[0m \u001b[0msklearn\u001b[0m\u001b[1;33m.\u001b[0m\u001b[0mdecomposition\u001b[0m \u001b[1;32mimport\u001b[0m \u001b[0mPCA\u001b[0m\u001b[1;33m\u001b[0m\u001b[1;33m\u001b[0m\u001b[0m\n",
      "\u001b[1;31mModuleNotFoundError\u001b[0m: No module named 'yellowbrick'"
     ]
    }
   ],
   "source": [
    "# Data preprocessing libraries\n",
    "import numpy as np\n",
    "import pandas as pd\n",
    "from pandas.plotting import parallel_coordinates\n",
    "\n",
    "import os\n",
    "import sqlite3\n",
    "import math\n",
    "from collections import Counter\n",
    "from pathlib import Path\n",
    "from tqdm import tqdm\n",
    "\n",
    "# Visualization\n",
    "import seaborn as sns\n",
    "import matplotlib as mpl\n",
    "import matplotlib.pyplot as plt\n",
    "import plotly\n",
    "import plotly.graph_objects as go\n",
    "import plotly.express as px\n",
    "from plotly.subplots import make_subplots\n",
    "import plotly.io as pio\n",
    "\n",
    "# Model\n",
    "from scipy.stats import skew\n",
    "import yellowbrick\n",
    "import sklearn\n",
    "from sklearn.decomposition import PCA \n",
    "from sklearn.cluster import KMeans\n",
    "from sklearn.manifold import TSNE \n",
    "from sklearn.decomposition import PCA\n",
    "from sklearn.model_selection import train_test_split\n",
    "from sklearn.metrics import mean_squared_error\n",
    "from sklearn.metrics import roc_auc_score\n",
    "from sklearn.metrics import accuracy_score\n",
    "from sklearn.metrics import confusion_matrix\n",
    "from sklearn.metrics import classification_report\n",
    "from sklearn.preprocessing import OrdinalEncoder, OneHotEncoder\n",
    "from sklearn.model_selection import GridSearchCV\n",
    "from sklearn.model_selection import RandomizedSearchCV\n",
    "\n",
    "# Config\n",
    "mpl.rcParams['font.family'] = 'monospace' \n",
    "sns.set_theme(style=\"white\", palette=None)\n",
    "plotly.offline.init_notebook_mode() \n",
    "plt.rcParams['figure.dpi'] = 300\n",
    "plt.rcParams['savefig.dpi'] = 300"
   ]
  },
  {
   "cell_type": "code",
   "execution_count": null,
   "id": "e47c1f9b",
   "metadata": {
    "execution": {
     "iopub.execute_input": "2022-12-30T14:05:12.570082Z",
     "iopub.status.busy": "2022-12-30T14:05:12.569690Z",
     "iopub.status.idle": "2022-12-30T14:05:12.576518Z",
     "shell.execute_reply": "2022-12-30T14:05:12.575385Z"
    },
    "id": "e47c1f9b",
    "papermill": {
     "duration": 0.095773,
     "end_time": "2022-12-30T14:05:12.578683",
     "exception": false,
     "start_time": "2022-12-30T14:05:12.482910",
     "status": "completed"
    },
    "tags": []
   },
   "outputs": [],
   "source": [
    "%matplotlib inline"
   ]
  },
  {
   "cell_type": "markdown",
   "id": "e7a8b44e",
   "metadata": {
    "id": "e7a8b44e",
    "papermill": {
     "duration": 0.084345,
     "end_time": "2022-12-30T14:05:12.746142",
     "exception": false,
     "start_time": "2022-12-30T14:05:12.661797",
     "status": "completed"
    },
    "tags": []
   },
   "source": [
    "# Data preprocessing"
   ]
  },
  {
   "cell_type": "code",
   "execution_count": null,
   "id": "49dea385",
   "metadata": {
    "execution": {
     "iopub.execute_input": "2022-12-30T14:05:12.918190Z",
     "iopub.status.busy": "2022-12-30T14:05:12.917645Z",
     "iopub.status.idle": "2022-12-30T14:05:33.047161Z",
     "shell.execute_reply": "2022-12-30T14:05:33.045715Z"
    },
    "id": "49dea385",
    "outputId": "701e4639-bad8-425c-a427-eff2e6e1be9c",
    "papermill": {
     "duration": 20.218993,
     "end_time": "2022-12-30T14:05:33.050110",
     "exception": false,
     "start_time": "2022-12-30T14:05:12.831117",
     "status": "completed"
    },
    "tags": []
   },
   "outputs": [],
   "source": [
    "# Reading csv files and drop the first column\n",
    "fraud = pd.read_csv(\"fraudTrain.csv\")\n",
    "\n",
    "\n",
    "fraud_test = pd.read_csv(\"fraudTest.csv\")\n",
    "\n",
    "\n",
    "# First view 10 rows\n",
    "fraud.head(10)"
   ]
  },
  {
   "cell_type": "code",
   "execution_count": null,
   "id": "b4030ce0",
   "metadata": {
    "execution": {
     "iopub.execute_input": "2022-12-30T14:05:33.224835Z",
     "iopub.status.busy": "2022-12-30T14:05:33.224147Z",
     "iopub.status.idle": "2022-12-30T14:05:33.231514Z",
     "shell.execute_reply": "2022-12-30T14:05:33.230710Z"
    },
    "id": "b4030ce0",
    "outputId": "a5cf1d82-bd00-4e9b-ad75-6a4c27b5448d",
    "papermill": {
     "duration": 0.096097,
     "end_time": "2022-12-30T14:05:33.233651",
     "exception": false,
     "start_time": "2022-12-30T14:05:33.137554",
     "status": "completed"
    },
    "tags": []
   },
   "outputs": [],
   "source": [
    "fraud.columns"
   ]
  },
  {
   "cell_type": "markdown",
   "id": "e6041417",
   "metadata": {
    "id": "e6041417",
    "papermill": {
     "duration": 0.088681,
     "end_time": "2022-12-30T14:05:33.419679",
     "exception": false,
     "start_time": "2022-12-30T14:05:33.330998",
     "status": "completed"
    },
    "tags": []
   },
   "source": [
    "## Exploratory Data Analysis\n",
    "1. Univariate Analysis\n",
    "2. Bivariate Analysis\n",
    "3. Data Cleaning\n",
    "4. Outlier Treatment\n",
    "5. Variable Transformation"
   ]
  },
  {
   "cell_type": "code",
   "execution_count": null,
   "id": "88cd5c46",
   "metadata": {
    "execution": {
     "iopub.execute_input": "2022-12-30T14:05:33.586114Z",
     "iopub.status.busy": "2022-12-30T14:05:33.585709Z",
     "iopub.status.idle": "2022-12-30T14:05:34.325951Z",
     "shell.execute_reply": "2022-12-30T14:05:34.324592Z"
    },
    "id": "88cd5c46",
    "outputId": "db6aa00b-3af6-452d-9a93-dd0963eef56e",
    "papermill": {
     "duration": 0.826351,
     "end_time": "2022-12-30T14:05:34.328656",
     "exception": false,
     "start_time": "2022-12-30T14:05:33.502305",
     "status": "completed"
    },
    "tags": []
   },
   "outputs": [],
   "source": [
    "# checking for various columns and nulls in the dataset\n",
    "fraud.info()"
   ]
  },
  {
   "cell_type": "code",
   "execution_count": null,
   "id": "6b2bab78",
   "metadata": {
    "execution": {
     "iopub.execute_input": "2022-12-30T14:05:34.494342Z",
     "iopub.status.busy": "2022-12-30T14:05:34.493958Z",
     "iopub.status.idle": "2022-12-30T14:05:34.500681Z",
     "shell.execute_reply": "2022-12-30T14:05:34.499241Z"
    },
    "id": "6b2bab78",
    "outputId": "1d1afecf-042a-4910-ddb3-27b215555f44",
    "papermill": {
     "duration": 0.093147,
     "end_time": "2022-12-30T14:05:34.503336",
     "exception": false,
     "start_time": "2022-12-30T14:05:34.410189",
     "status": "completed"
    },
    "tags": []
   },
   "outputs": [],
   "source": [
    "# checking % of data provided by Kaggle in the train & test\n",
    "1296675 * 100 / (1296675 + 555719)"
   ]
  },
  {
   "cell_type": "markdown",
   "id": "ac4255c1",
   "metadata": {
    "id": "ac4255c1",
    "papermill": {
     "duration": 0.085271,
     "end_time": "2022-12-30T14:05:34.671498",
     "exception": false,
     "start_time": "2022-12-30T14:05:34.586227",
     "status": "completed"
    },
    "tags": []
   },
   "source": [
    "\n",
    "\n",
    "*   70% data is present in the train dataset and remaining 30% in the test dataset.\n",
    "*   No null values in either of the files\n",
    "\n",
    "\n"
   ]
  },
  {
   "cell_type": "code",
   "execution_count": null,
   "id": "4d0f6eab",
   "metadata": {
    "execution": {
     "iopub.execute_input": "2022-12-30T14:05:34.841624Z",
     "iopub.status.busy": "2022-12-30T14:05:34.840735Z",
     "iopub.status.idle": "2022-12-30T14:05:34.861389Z",
     "shell.execute_reply": "2022-12-30T14:05:34.860011Z"
    },
    "id": "4d0f6eab",
    "outputId": "5ba6dba5-ee4e-42e4-8f93-c8514dfe3796",
    "papermill": {
     "duration": 0.108444,
     "end_time": "2022-12-30T14:05:34.864139",
     "exception": false,
     "start_time": "2022-12-30T14:05:34.755695",
     "status": "completed"
    },
    "tags": []
   },
   "outputs": [],
   "source": [
    "# Check for imbalance on target variable in the train dataset\n",
    "fraud.is_fraud.value_counts(normalize=True)"
   ]
  },
  {
   "cell_type": "code",
   "execution_count": 5,
   "id": "d512fc3b",
   "metadata": {
    "execution": {
     "iopub.execute_input": "2022-12-30T14:05:35.034733Z",
     "iopub.status.busy": "2022-12-30T14:05:35.034012Z",
     "iopub.status.idle": "2022-12-30T14:05:35.291968Z",
     "shell.execute_reply": "2022-12-30T14:05:35.290501Z"
    },
    "id": "d512fc3b",
    "outputId": "04a7d3ff-70b6-4785-d875-2b96ba3edd74",
    "papermill": {
     "duration": 0.349587,
     "end_time": "2022-12-30T14:05:35.294718",
     "exception": false,
     "start_time": "2022-12-30T14:05:34.945131",
     "status": "completed"
    },
    "tags": []
   },
   "outputs": [
    {
     "name": "stdout",
     "output_type": "stream",
     "text": [
      "Fraud Distribution\n"
     ]
    },
    {
     "ename": "NameError",
     "evalue": "name 'fraud' is not defined",
     "output_type": "error",
     "traceback": [
      "\u001b[1;31m---------------------------------------------------------------------------\u001b[0m",
      "\u001b[1;31mNameError\u001b[0m                                 Traceback (most recent call last)",
      "\u001b[1;32m~\\AppData\\Local\\Temp\\ipykernel_13264\\181683217.py\u001b[0m in \u001b[0;36m<module>\u001b[1;34m\u001b[0m\n\u001b[0;32m      1\u001b[0m \u001b[1;31m# Check for imbalance on target variable in the main dataset\u001b[0m\u001b[1;33m\u001b[0m\u001b[1;33m\u001b[0m\u001b[0m\n\u001b[0;32m      2\u001b[0m \u001b[0mprint\u001b[0m \u001b[1;33m(\u001b[0m\u001b[1;34m'Fraud Distribution'\u001b[0m\u001b[1;33m)\u001b[0m\u001b[1;33m\u001b[0m\u001b[1;33m\u001b[0m\u001b[0m\n\u001b[1;32m----> 3\u001b[1;33m \u001b[0mprint\u001b[0m \u001b[1;33m(\u001b[0m\u001b[0mfraud\u001b[0m\u001b[1;33m.\u001b[0m\u001b[0mis_fraud\u001b[0m\u001b[1;33m.\u001b[0m\u001b[0mvalue_counts\u001b[0m\u001b[1;33m(\u001b[0m\u001b[0mnormalize\u001b[0m\u001b[1;33m=\u001b[0m\u001b[1;32mTrue\u001b[0m\u001b[1;33m)\u001b[0m\u001b[1;33m)\u001b[0m\u001b[1;33m\u001b[0m\u001b[1;33m\u001b[0m\u001b[0m\n\u001b[0m\u001b[0;32m      4\u001b[0m \u001b[0mplt\u001b[0m\u001b[1;33m.\u001b[0m\u001b[0mtitle\u001b[0m\u001b[1;33m(\u001b[0m\u001b[1;34m'Transaction Distribution by Fraud'\u001b[0m\u001b[1;33m,\u001b[0m \u001b[0mfontsize\u001b[0m\u001b[1;33m=\u001b[0m \u001b[1;36m10\u001b[0m\u001b[1;33m,\u001b[0m \u001b[0mcolor\u001b[0m \u001b[1;33m=\u001b[0m \u001b[1;34m'Red'\u001b[0m\u001b[1;33m,\u001b[0m \u001b[0mfontweight\u001b[0m \u001b[1;33m=\u001b[0m \u001b[1;36m100\u001b[0m\u001b[1;33m)\u001b[0m\u001b[1;33m\u001b[0m\u001b[1;33m\u001b[0m\u001b[0m\n\u001b[0;32m      5\u001b[0m \u001b[0mfraud\u001b[0m\u001b[1;33m.\u001b[0m\u001b[0mis_fraud\u001b[0m\u001b[1;33m.\u001b[0m\u001b[0mvalue_counts\u001b[0m\u001b[1;33m(\u001b[0m\u001b[0mnormalize\u001b[0m\u001b[1;33m=\u001b[0m\u001b[1;32mTrue\u001b[0m\u001b[1;33m)\u001b[0m\u001b[1;33m.\u001b[0m\u001b[0mplot\u001b[0m\u001b[1;33m.\u001b[0m\u001b[0mbar\u001b[0m\u001b[1;33m(\u001b[0m\u001b[1;33m)\u001b[0m\u001b[1;33m\u001b[0m\u001b[1;33m\u001b[0m\u001b[0m\n",
      "\u001b[1;31mNameError\u001b[0m: name 'fraud' is not defined"
     ]
    }
   ],
   "source": [
    "# Check for imbalance on target variable in the main dataset\n",
    "print ('Fraud Distribution')\n",
    "print (fraud.is_fraud.value_counts(normalize=True))\n",
    "plt.title('Transaction Distribution by Fraud', fontsize= 10, color = 'Red', fontweight = 100)\n",
    "fraud.is_fraud.value_counts(normalize=True).plot.bar()\n",
    "plt.show()"
   ]
  },
  {
   "cell_type": "code",
   "execution_count": null,
   "id": "8cd38cf9",
   "metadata": {
    "execution": {
     "iopub.execute_input": "2022-12-30T14:05:35.467168Z",
     "iopub.status.busy": "2022-12-30T14:05:35.466750Z",
     "iopub.status.idle": "2022-12-30T14:05:35.481820Z",
     "shell.execute_reply": "2022-12-30T14:05:35.480433Z"
    },
    "id": "8cd38cf9",
    "outputId": "923080c3-8208-4ac5-94cb-4cc169520dd5",
    "papermill": {
     "duration": 0.10487,
     "end_time": "2022-12-30T14:05:35.484537",
     "exception": false,
     "start_time": "2022-12-30T14:05:35.379667",
     "status": "completed"
    },
    "tags": []
   },
   "outputs": [],
   "source": [
    "# Check for imbalance on target variable in the test dataset\n",
    "fraud_test.is_fraud.value_counts(normalize=True)"
   ]
  },
  {
   "cell_type": "markdown",
   "id": "c2b32b7c",
   "metadata": {
    "id": "c2b32b7c",
    "papermill": {
     "duration": 0.085178,
     "end_time": "2022-12-30T14:05:35.652423",
     "exception": false,
     "start_time": "2022-12-30T14:05:35.567245",
     "status": "completed"
    },
    "tags": []
   },
   "source": [
    "Both the datasets have high imbalnce of the target variable with the test dataset having slightly higher imbalance. At this point, lets keep the test data seperate. We will be building the model on the train dataset. If required, a validation dataset will be carved from it. The final evaluation will be done on the test dataset."
   ]
  },
  {
   "cell_type": "markdown",
   "id": "137bf2b5",
   "metadata": {
    "id": "137bf2b5",
    "papermill": {
     "duration": 0.083036,
     "end_time": "2022-12-30T14:05:35.818588",
     "exception": false,
     "start_time": "2022-12-30T14:05:35.735552",
     "status": "completed"
    },
    "tags": []
   },
   "source": [
    "## Univariate Analysis\n",
    "The following columns seems of very less/ no significance in determining a fraud case. Primary reason being no model can be created based on person's name or his PII or some unique ID/ S.no. assigned. Hence, dropping them:-\n",
    "\n",
    "1. cc_num\n",
    "2. first\n",
    "3. last\n",
    "4. street\n",
    "5. trans_num"
   ]
  },
  {
   "cell_type": "code",
   "execution_count": null,
   "id": "d5f4e1d2",
   "metadata": {
    "execution": {
     "iopub.execute_input": "2022-12-30T14:05:35.988502Z",
     "iopub.status.busy": "2022-12-30T14:05:35.987987Z",
     "iopub.status.idle": "2022-12-30T14:05:36.595902Z",
     "shell.execute_reply": "2022-12-30T14:05:36.594616Z"
    },
    "id": "d5f4e1d2",
    "papermill": {
     "duration": 0.696744,
     "end_time": "2022-12-30T14:05:36.598717",
     "exception": false,
     "start_time": "2022-12-30T14:05:35.901973",
     "status": "completed"
    },
    "tags": []
   },
   "outputs": [],
   "source": [
    "# Dropping the unwanted columns from both datasets\n",
    "fraud.drop(['cc_num', 'first', 'last', 'street', 'trans_num'], axis=1, inplace=True)\n",
    "fraud.drop(fraud.iloc[:,[0]], axis=1, inplace=True)\n",
    "fraud_test.drop(['cc_num', 'first', 'last', 'street', 'trans_num'], axis=1, inplace=True)\n",
    "fraud_test.drop(fraud_test.iloc[:,[0]], axis=1, inplace=True)"
   ]
  },
  {
   "cell_type": "code",
   "execution_count": null,
   "id": "cd8cd52a",
   "metadata": {
    "execution": {
     "iopub.execute_input": "2022-12-30T14:05:36.775980Z",
     "iopub.status.busy": "2022-12-30T14:05:36.775561Z",
     "iopub.status.idle": "2022-12-30T14:05:36.796736Z",
     "shell.execute_reply": "2022-12-30T14:05:36.795751Z"
    },
    "id": "cd8cd52a",
    "outputId": "fcdab763-3360-43f6-e0a1-7ec62110ca4d",
    "papermill": {
     "duration": 0.114557,
     "end_time": "2022-12-30T14:05:36.798803",
     "exception": false,
     "start_time": "2022-12-30T14:05:36.684246",
     "status": "completed"
    },
    "tags": []
   },
   "outputs": [],
   "source": [
    "# Inspecting the fraud dataset\n",
    "fraud.head()"
   ]
  },
  {
   "cell_type": "code",
   "execution_count": null,
   "id": "7584f9db",
   "metadata": {
    "execution": {
     "iopub.execute_input": "2022-12-30T14:05:36.969472Z",
     "iopub.status.busy": "2022-12-30T14:05:36.968411Z",
     "iopub.status.idle": "2022-12-30T14:05:36.990660Z",
     "shell.execute_reply": "2022-12-30T14:05:36.989663Z"
    },
    "id": "7584f9db",
    "outputId": "7a4e1ab5-cc35-4ec5-81a5-dff0e98c419a",
    "papermill": {
     "duration": 0.110664,
     "end_time": "2022-12-30T14:05:36.992893",
     "exception": false,
     "start_time": "2022-12-30T14:05:36.882229",
     "status": "completed"
    },
    "tags": []
   },
   "outputs": [],
   "source": [
    "# Inspecting the fraud test dataset\n",
    "fraud_test.head()"
   ]
  },
  {
   "cell_type": "code",
   "execution_count": null,
   "id": "99085978",
   "metadata": {
    "execution": {
     "iopub.execute_input": "2022-12-30T14:05:37.166624Z",
     "iopub.status.busy": "2022-12-30T14:05:37.165397Z",
     "iopub.status.idle": "2022-12-30T14:05:37.800714Z",
     "shell.execute_reply": "2022-12-30T14:05:37.799272Z"
    },
    "id": "99085978",
    "outputId": "2e2f9f88-fef9-48eb-ba72-ec82435b5a10",
    "papermill": {
     "duration": 0.725932,
     "end_time": "2022-12-30T14:05:37.803426",
     "exception": false,
     "start_time": "2022-12-30T14:05:37.077494",
     "status": "completed"
    },
    "tags": []
   },
   "outputs": [],
   "source": [
    "# Converting dob to age\n",
    "from datetime import date\n",
    "fraud['dob'] = pd.to_datetime(fraud['dob'])\n",
    "fraud['age'] = (pd.to_datetime('now') - fraud['dob'])/ np.timedelta64(1, 'Y')\n",
    "fraud['age'] = fraud['age'].astype(int)\n",
    "fraud.drop(['dob'], axis=1, inplace=True)\n",
    "fraud.head()"
   ]
  },
  {
   "cell_type": "code",
   "execution_count": null,
   "id": "3fb6f1a3",
   "metadata": {
    "execution": {
     "iopub.execute_input": "2022-12-30T14:05:37.979398Z",
     "iopub.status.busy": "2022-12-30T14:05:37.978495Z",
     "iopub.status.idle": "2022-12-30T14:05:38.219625Z",
     "shell.execute_reply": "2022-12-30T14:05:38.218785Z"
    },
    "id": "3fb6f1a3",
    "outputId": "ad83c69e-07b8-42bc-c114-c73c50d84f33",
    "papermill": {
     "duration": 0.331837,
     "end_time": "2022-12-30T14:05:38.221736",
     "exception": false,
     "start_time": "2022-12-30T14:05:37.889899",
     "status": "completed"
    },
    "tags": []
   },
   "outputs": [],
   "source": [
    "# Same change on the test dataset\n",
    "fraud_test['dob'] = pd.to_datetime(fraud_test['dob'])\n",
    "fraud_test['age'] = (pd.to_datetime('now') - fraud_test['dob'])/ np.timedelta64(1, 'Y')\n",
    "fraud_test['age'] = fraud_test['age'].astype(int)\n",
    "fraud_test.drop(['dob'], axis=1, inplace=True)\n",
    "fraud_test.head()"
   ]
  },
  {
   "cell_type": "code",
   "execution_count": null,
   "id": "ddaee62b",
   "metadata": {
    "execution": {
     "iopub.execute_input": "2022-12-30T14:05:38.401527Z",
     "iopub.status.busy": "2022-12-30T14:05:38.400450Z",
     "iopub.status.idle": "2022-12-30T14:05:40.594157Z",
     "shell.execute_reply": "2022-12-30T14:05:40.592828Z"
    },
    "id": "ddaee62b",
    "outputId": "6e5e954c-efcc-4e4f-fcb1-7350f6f456e8",
    "papermill": {
     "duration": 2.287008,
     "end_time": "2022-12-30T14:05:40.596833",
     "exception": false,
     "start_time": "2022-12-30T14:05:38.309825",
     "status": "completed"
    },
    "tags": []
   },
   "outputs": [],
   "source": [
    "# Seggregating data and time from trans_date_trans_time field\n",
    "fraud['trans_date'] = pd.DatetimeIndex(fraud['trans_date_trans_time']).date\n",
    "fraud['trans_time'] = pd.DatetimeIndex(fraud['trans_date_trans_time']).time\n",
    "fraud.drop(['trans_date_trans_time'], axis=1, inplace=True)\n",
    "fraud.head()"
   ]
  },
  {
   "cell_type": "code",
   "execution_count": null,
   "id": "7321bded",
   "metadata": {
    "execution": {
     "iopub.execute_input": "2022-12-30T14:05:40.768332Z",
     "iopub.status.busy": "2022-12-30T14:05:40.767584Z",
     "iopub.status.idle": "2022-12-30T14:05:41.615596Z",
     "shell.execute_reply": "2022-12-30T14:05:41.614725Z"
    },
    "id": "7321bded",
    "outputId": "2fa181f5-c1c9-4774-e372-bace178d432e",
    "papermill": {
     "duration": 0.936743,
     "end_time": "2022-12-30T14:05:41.617705",
     "exception": false,
     "start_time": "2022-12-30T14:05:40.680962",
     "status": "completed"
    },
    "tags": []
   },
   "outputs": [],
   "source": [
    "# Same changes on test dataset\n",
    "fraud_test['trans_date'] = pd.DatetimeIndex(fraud_test['trans_date_trans_time']).date\n",
    "fraud_test['trans_time'] = pd.DatetimeIndex(fraud_test['trans_date_trans_time']).time\n",
    "fraud_test.drop(['trans_date_trans_time'], axis=1, inplace=True)\n",
    "fraud_test.head()"
   ]
  },
  {
   "cell_type": "code",
   "execution_count": null,
   "id": "0d18055f",
   "metadata": {
    "execution": {
     "iopub.execute_input": "2022-12-30T14:05:41.789944Z",
     "iopub.status.busy": "2022-12-30T14:05:41.789216Z",
     "iopub.status.idle": "2022-12-30T14:05:42.333491Z",
     "shell.execute_reply": "2022-12-30T14:05:42.332171Z"
    },
    "id": "0d18055f",
    "outputId": "aaf7fd55-c6c2-4546-b684-3462eeb8e72e",
    "papermill": {
     "duration": 0.634848,
     "end_time": "2022-12-30T14:05:42.336125",
     "exception": false,
     "start_time": "2022-12-30T14:05:41.701277",
     "status": "completed"
    },
    "tags": []
   },
   "outputs": [],
   "source": [
    "# Check on numeric columns for outliers\n",
    "fraud.describe()"
   ]
  },
  {
   "cell_type": "code",
   "execution_count": null,
   "id": "701f0731",
   "metadata": {
    "execution": {
     "iopub.execute_input": "2022-12-30T14:05:42.507770Z",
     "iopub.status.busy": "2022-12-30T14:05:42.507069Z",
     "iopub.status.idle": "2022-12-30T14:05:43.601420Z",
     "shell.execute_reply": "2022-12-30T14:05:43.600205Z"
    },
    "id": "701f0731",
    "outputId": "1655b5dc-d71b-4f09-a3ef-f76e4f3a6799",
    "papermill": {
     "duration": 1.183753,
     "end_time": "2022-12-30T14:05:43.604094",
     "exception": false,
     "start_time": "2022-12-30T14:05:42.420341",
     "status": "completed"
    },
    "tags": []
   },
   "outputs": [],
   "source": [
    "# Further checking distribution of continuous variables - amt, city_pop and age columns to see if there are any valid outliers\n",
    "plt.boxplot(fraud.amt)\n",
    "plt.show()\n",
    "plt.boxplot(fraud.city_pop)\n",
    "plt.show()\n",
    "plt.boxplot(fraud.age)\n",
    "plt.show()"
   ]
  },
  {
   "cell_type": "markdown",
   "id": "aecdb902",
   "metadata": {
    "id": "aecdb902",
    "papermill": {
     "duration": 0.090305,
     "end_time": "2022-12-30T14:05:43.780750",
     "exception": false,
     "start_time": "2022-12-30T14:05:43.690445",
     "status": "completed"
    },
    "tags": []
   },
   "source": [
    "The age column has no outliers while amt and city_pop stastically shows outliers. However, both amount and city population can vary drastically and none of them seems very high or very low. Hence, we will consider it as valid data."
   ]
  },
  {
   "cell_type": "code",
   "execution_count": null,
   "id": "3420f183",
   "metadata": {
    "execution": {
     "iopub.execute_input": "2022-12-30T14:05:43.955586Z",
     "iopub.status.busy": "2022-12-30T14:05:43.954707Z",
     "iopub.status.idle": "2022-12-30T14:05:43.964231Z",
     "shell.execute_reply": "2022-12-30T14:05:43.962837Z"
    },
    "id": "3420f183",
    "outputId": "e55e52f3-852d-4783-e080-8113562aaa68",
    "papermill": {
     "duration": 0.100257,
     "end_time": "2022-12-30T14:05:43.966947",
     "exception": false,
     "start_time": "2022-12-30T14:05:43.866690",
     "status": "completed"
    },
    "tags": []
   },
   "outputs": [],
   "source": [
    "# Identifying all the Numeric and non numeric columns\n",
    "num = []\n",
    "obj = []\n",
    "for i in range (0,13):\n",
    "    if fraud.iloc[:,i].dtype != 'O':\n",
    "        num.append(i)\n",
    "    else:\n",
    "        obj.append(i)\n",
    "print(num)\n",
    "print(obj)\n",
    "col_names = fraud.columns\n",
    "print(col_names)"
   ]
  },
  {
   "cell_type": "code",
   "execution_count": null,
   "id": "b1abb171",
   "metadata": {
    "execution": {
     "iopub.execute_input": "2022-12-30T14:05:44.137830Z",
     "iopub.status.busy": "2022-12-30T14:05:44.136815Z",
     "iopub.status.idle": "2022-12-30T14:05:44.673687Z",
     "shell.execute_reply": "2022-12-30T14:05:44.671277Z"
    },
    "id": "b1abb171",
    "outputId": "612cbacf-90a5-477d-f107-6d8f3a663b6f",
    "papermill": {
     "duration": 0.62553,
     "end_time": "2022-12-30T14:05:44.676525",
     "exception": false,
     "start_time": "2022-12-30T14:05:44.050995",
     "status": "completed"
    },
    "tags": []
   },
   "outputs": [],
   "source": [
    "# Checking the distribution of object variables\n",
    "for i in obj:\n",
    "    print (col_names[i])\n",
    "    print (fraud.iloc[:,i].value_counts(normalize=True))\n",
    "    print ('*' * 50)"
   ]
  },
  {
   "cell_type": "code",
   "execution_count": null,
   "id": "3ed3f81f",
   "metadata": {
    "execution": {
     "iopub.execute_input": "2022-12-30T14:05:44.848640Z",
     "iopub.status.busy": "2022-12-30T14:05:44.847681Z",
     "iopub.status.idle": "2022-12-30T14:05:46.631646Z",
     "shell.execute_reply": "2022-12-30T14:05:46.630454Z"
    },
    "id": "3ed3f81f",
    "outputId": "fafd6620-350a-4394-98c8-3d01b769ed62",
    "papermill": {
     "duration": 1.872544,
     "end_time": "2022-12-30T14:05:46.634062",
     "exception": false,
     "start_time": "2022-12-30T14:05:44.761518",
     "status": "completed"
    },
    "tags": []
   },
   "outputs": [],
   "source": [
    "# Lets check the transaction distribution by Category, Gender and State variables\n",
    "plt.figure(figsize = (7,5))\n",
    "plt.title('Transaction distribution by Category', fontsize= 10, color = 'Red', fontweight = 100)\n",
    "fraud.category.value_counts(normalize=True).plot.bar()\n",
    "plt.show()\n",
    "\n",
    "plt.figure(figsize = (7,5))\n",
    "plt.title('Transaction distribution by gender', fontsize= 10, color = 'Red', fontweight = 100)\n",
    "fraud.gender.value_counts(normalize=True).plot.bar()\n",
    "plt.show()\n",
    "\n",
    "plt.figure(figsize = (17,5))\n",
    "plt.title('Transaction distribution by state', fontsize= 10, color = 'Red', fontweight = 100)\n",
    "fraud.state.value_counts(normalize=True).plot.bar()\n",
    "plt.show()"
   ]
  },
  {
   "cell_type": "markdown",
   "id": "04f78972",
   "metadata": {
    "id": "04f78972",
    "papermill": {
     "duration": 0.085937,
     "end_time": "2022-12-30T14:05:46.806867",
     "exception": false,
     "start_time": "2022-12-30T14:05:46.720930",
     "status": "completed"
    },
    "tags": []
   },
   "source": [
    "## Bi-Variate Analysis\n",
    "Check for the behaviour of various columns against the is_fraud column"
   ]
  },
  {
   "cell_type": "code",
   "execution_count": null,
   "id": "3c14db85",
   "metadata": {
    "execution": {
     "iopub.execute_input": "2022-12-30T14:05:46.983943Z",
     "iopub.status.busy": "2022-12-30T14:05:46.983167Z",
     "iopub.status.idle": "2022-12-30T14:05:47.452258Z",
     "shell.execute_reply": "2022-12-30T14:05:47.450139Z"
    },
    "id": "3c14db85",
    "outputId": "73a73d92-06c6-4c9b-cde7-24839c3132f3",
    "papermill": {
     "duration": 0.562604,
     "end_time": "2022-12-30T14:05:47.455511",
     "exception": false,
     "start_time": "2022-12-30T14:05:46.892907",
     "status": "completed"
    },
    "tags": []
   },
   "outputs": [],
   "source": [
    "fraud.info()"
   ]
  },
  {
   "cell_type": "code",
   "execution_count": null,
   "id": "87d7bcfb",
   "metadata": {
    "execution": {
     "iopub.execute_input": "2022-12-30T14:05:47.635685Z",
     "iopub.status.busy": "2022-12-30T14:05:47.635198Z",
     "iopub.status.idle": "2022-12-30T14:05:50.340772Z",
     "shell.execute_reply": "2022-12-30T14:05:50.339383Z"
    },
    "id": "87d7bcfb",
    "outputId": "9230d362-4071-45a2-f03f-6f9f5bab532e",
    "papermill": {
     "duration": 2.799177,
     "end_time": "2022-12-30T14:05:50.343442",
     "exception": false,
     "start_time": "2022-12-30T14:05:47.544265",
     "status": "completed"
    },
    "tags": []
   },
   "outputs": [],
   "source": [
    "# Fraud Vs Amount\n",
    "plt.figure(figsize=[15,5])\n",
    "plt.subplot(1,2,1)\n",
    "plt.title('Fraud Vs Transaction Amount', fontsize= 10, color = 'Red', fontweight = 100)\n",
    "plt.scatter(fraud.amt, fraud.is_fraud)\n",
    "plt.subplot(1,2,2)\n",
    "#fraud.groupby('is_fraud')['amt'].mean().plot.bar()\n",
    "#plt.xticks((0,1),['Not Fraud', 'Fraud'])\n",
    "#plt.xticks(rotation=0)\n",
    "temp = fraud[fraud.is_fraud == 1]\n",
    "plt.title('Distribution of Fraud Amount', fontsize= 10, color = 'Red', fontweight = 100)\n",
    "plt.hist(temp.amt, edgecolor='Black')\n",
    "plt.xticks(np.arange(0, 1300, step=100))\n",
    "\n",
    "plt.show()"
   ]
  },
  {
   "cell_type": "markdown",
   "id": "49ee7c85",
   "metadata": {
    "id": "49ee7c85",
    "papermill": {
     "duration": 0.086316,
     "end_time": "2022-12-30T14:05:50.519407",
     "exception": false,
     "start_time": "2022-12-30T14:05:50.433091",
     "status": "completed"
    },
    "tags": []
   },
   "source": [
    "As can be seen from above, frauds are happening in transactions with lower amount hence indicating there is a relation in them."
   ]
  },
  {
   "cell_type": "code",
   "execution_count": null,
   "id": "f5ef1be1",
   "metadata": {
    "execution": {
     "iopub.execute_input": "2022-12-30T14:05:50.696576Z",
     "iopub.status.busy": "2022-12-30T14:05:50.696155Z",
     "iopub.status.idle": "2022-12-30T14:05:54.802627Z",
     "shell.execute_reply": "2022-12-30T14:05:54.801351Z"
    },
    "id": "f5ef1be1",
    "outputId": "f1717bb5-0f14-48cb-b46a-3d204658113f",
    "papermill": {
     "duration": 4.198147,
     "end_time": "2022-12-30T14:05:54.805451",
     "exception": false,
     "start_time": "2022-12-30T14:05:50.607304",
     "status": "completed"
    },
    "tags": []
   },
   "outputs": [],
   "source": [
    "# Fraud transactions Vs merchant\n",
    "# Total number of transactions per merchant\n",
    "merch_tran_total = fraud.sort_values('merchant').groupby('merchant').count()['is_fraud']\n",
    "merch_tran_total.head()"
   ]
  },
  {
   "cell_type": "code",
   "execution_count": null,
   "id": "2f85b6e1",
   "metadata": {
    "execution": {
     "iopub.execute_input": "2022-12-30T14:05:54.979485Z",
     "iopub.status.busy": "2022-12-30T14:05:54.978763Z",
     "iopub.status.idle": "2022-12-30T14:05:55.000641Z",
     "shell.execute_reply": "2022-12-30T14:05:54.999534Z"
    },
    "id": "2f85b6e1",
    "outputId": "35a9ab43-4228-4a17-eb84-fd442390bf57",
    "papermill": {
     "duration": 0.112666,
     "end_time": "2022-12-30T14:05:55.003471",
     "exception": false,
     "start_time": "2022-12-30T14:05:54.890805",
     "status": "completed"
    },
    "tags": []
   },
   "outputs": [],
   "source": [
    "# Total fraud transactions per merchant\n",
    "merch_tran_fraud = fraud[fraud.is_fraud == 1]['merchant'].value_counts()\n",
    "merch_tran_fraud.head()"
   ]
  },
  {
   "cell_type": "code",
   "execution_count": null,
   "id": "7eceb15a",
   "metadata": {
    "execution": {
     "iopub.execute_input": "2022-12-30T14:05:55.180531Z",
     "iopub.status.busy": "2022-12-30T14:05:55.179858Z",
     "iopub.status.idle": "2022-12-30T14:05:55.193305Z",
     "shell.execute_reply": "2022-12-30T14:05:55.192529Z"
    },
    "id": "7eceb15a",
    "outputId": "71afc18c-fedb-4626-ce56-c1e08b0b3b42",
    "papermill": {
     "duration": 0.106005,
     "end_time": "2022-12-30T14:05:55.195460",
     "exception": false,
     "start_time": "2022-12-30T14:05:55.089455",
     "status": "completed"
    },
    "tags": []
   },
   "outputs": [],
   "source": [
    "# Percent of fraud transactions per merchant\n",
    "fraud_perc = merch_tran_fraud/ merch_tran_total * 100\n",
    "fraud_perc.sort_values(ascending=False)"
   ]
  },
  {
   "cell_type": "markdown",
   "id": "32997687",
   "metadata": {
    "id": "32997687",
    "papermill": {
     "duration": 0.109247,
     "end_time": "2022-12-30T14:05:55.398387",
     "exception": false,
     "start_time": "2022-12-30T14:05:55.289140",
     "status": "completed"
    },
    "tags": []
   },
   "source": [
    "Baring a few merchants, most of them have equal distribution of transactions and hence this field may play important role in the model. Changing the alphabetic values to numeric as models expects numeric data."
   ]
  },
  {
   "cell_type": "code",
   "execution_count": null,
   "id": "e3af22ae",
   "metadata": {
    "execution": {
     "iopub.execute_input": "2022-12-30T14:05:55.575144Z",
     "iopub.status.busy": "2022-12-30T14:05:55.574755Z",
     "iopub.status.idle": "2022-12-30T14:05:56.245178Z",
     "shell.execute_reply": "2022-12-30T14:05:56.243922Z"
    },
    "id": "e3af22ae",
    "papermill": {
     "duration": 0.762146,
     "end_time": "2022-12-30T14:05:56.247902",
     "exception": false,
     "start_time": "2022-12-30T14:05:55.485756",
     "status": "completed"
    },
    "tags": []
   },
   "outputs": [],
   "source": [
    "# variable transformation - merchant\n",
    "from sklearn.preprocessing import LabelEncoder\n",
    "label_encoder = LabelEncoder()\n",
    "fraud.merchant = label_encoder.fit_transform(fraud.merchant)\n",
    "fraud_test.merchant = label_encoder.fit_transform(fraud_test.merchant)"
   ]
  },
  {
   "cell_type": "code",
   "execution_count": null,
   "id": "e4810315",
   "metadata": {
    "execution": {
     "iopub.execute_input": "2022-12-30T14:05:56.421135Z",
     "iopub.status.busy": "2022-12-30T14:05:56.420516Z",
     "iopub.status.idle": "2022-12-30T14:06:00.550826Z",
     "shell.execute_reply": "2022-12-30T14:06:00.549620Z"
    },
    "id": "e4810315",
    "outputId": "a1a43fda-cd66-46a1-9453-90afbd6b2d13",
    "papermill": {
     "duration": 4.220104,
     "end_time": "2022-12-30T14:06:00.553676",
     "exception": false,
     "start_time": "2022-12-30T14:05:56.333572",
     "status": "completed"
    },
    "tags": []
   },
   "outputs": [],
   "source": [
    "# Fraud transactions Vs City\n",
    "# Percent distribution of fraud based on city\n",
    "city_tran_total = fraud.sort_values('city').groupby('city').count()['is_fraud']\n",
    "city_tran_fraud = fraud[fraud.is_fraud == 1]['city'].value_counts()\n",
    "fraud_perc = city_tran_fraud/ city_tran_total * 100\n",
    "fraud_perc.sort_values(ascending=False).head()"
   ]
  },
  {
   "cell_type": "markdown",
   "id": "2eae0ac2",
   "metadata": {
    "id": "2eae0ac2",
    "papermill": {
     "duration": 0.090655,
     "end_time": "2022-12-30T14:06:00.738055",
     "exception": false,
     "start_time": "2022-12-30T14:06:00.647400",
     "status": "completed"
    },
    "tags": []
   },
   "source": [
    "As can be seen, few cities have all transactions as fraud. All these cities have low transaction rate. There are 58 such cities."
   ]
  },
  {
   "cell_type": "code",
   "execution_count": null,
   "id": "337d8f58",
   "metadata": {
    "execution": {
     "iopub.execute_input": "2022-12-30T14:06:00.919077Z",
     "iopub.status.busy": "2022-12-30T14:06:00.918685Z",
     "iopub.status.idle": "2022-12-30T14:06:01.639610Z",
     "shell.execute_reply": "2022-12-30T14:06:01.638472Z"
    },
    "id": "337d8f58",
    "papermill": {
     "duration": 0.815781,
     "end_time": "2022-12-30T14:06:01.642351",
     "exception": false,
     "start_time": "2022-12-30T14:06:00.826570",
     "status": "completed"
    },
    "tags": []
   },
   "outputs": [],
   "source": [
    "# Transforming alphabetic city data into numeric to be processed by the model\n",
    "fraud.city = label_encoder.fit_transform(fraud.city)\n",
    "fraud_test.city = label_encoder.fit_transform(fraud_test.city)"
   ]
  },
  {
   "cell_type": "code",
   "execution_count": null,
   "id": "1e9d5e54",
   "metadata": {
    "execution": {
     "iopub.execute_input": "2022-12-30T14:06:01.826162Z",
     "iopub.status.busy": "2022-12-30T14:06:01.825762Z",
     "iopub.status.idle": "2022-12-30T14:06:05.099756Z",
     "shell.execute_reply": "2022-12-30T14:06:05.098639Z"
    },
    "id": "1e9d5e54",
    "outputId": "2245c958-28e0-415f-9e6c-d64f6b310efc",
    "papermill": {
     "duration": 3.368287,
     "end_time": "2022-12-30T14:06:05.102765",
     "exception": false,
     "start_time": "2022-12-30T14:06:01.734478",
     "status": "completed"
    },
    "tags": []
   },
   "outputs": [],
   "source": [
    "# category Vs fraud\n",
    "# Percent distribution of fraud based on transaction category\n",
    "cat_tran_total = fraud.sort_values('category').groupby('category').count()['is_fraud']\n",
    "cat_tran_fraud = fraud[fraud.is_fraud == 1]['category'].value_counts()\n",
    "fraud_perc = cat_tran_fraud/ cat_tran_total * 100\n",
    "plt.title('Category wise fraud transactions', fontsize= 10, color = 'Red', fontweight = 100)\n",
    "plt.ylabel('% Fraud Transactions', fontdict = {'fontsize': 10, 'color': 'Blue', 'fontweight' : '300'})\n",
    "fraud_perc.sort_values().plot.bar()\n",
    "plt.show()"
   ]
  },
  {
   "cell_type": "code",
   "execution_count": null,
   "id": "27d6329e",
   "metadata": {
    "execution": {
     "iopub.execute_input": "2022-12-30T14:06:05.279791Z",
     "iopub.status.busy": "2022-12-30T14:06:05.278633Z",
     "iopub.status.idle": "2022-12-30T14:06:05.916657Z",
     "shell.execute_reply": "2022-12-30T14:06:05.915414Z"
    },
    "id": "27d6329e",
    "papermill": {
     "duration": 0.730618,
     "end_time": "2022-12-30T14:06:05.919408",
     "exception": false,
     "start_time": "2022-12-30T14:06:05.188790",
     "status": "completed"
    },
    "tags": []
   },
   "outputs": [],
   "source": [
    "# Transforming alphabetic category data into numeric to be processed by the model\n",
    "fraud.category = label_encoder.fit_transform(fraud.category)\n",
    "fraud_test.category = label_encoder.fit_transform(fraud_test.category)"
   ]
  },
  {
   "cell_type": "code",
   "execution_count": null,
   "id": "9b42a41b",
   "metadata": {
    "execution": {
     "iopub.execute_input": "2022-12-30T14:06:06.100946Z",
     "iopub.status.busy": "2022-12-30T14:06:06.100530Z",
     "iopub.status.idle": "2022-12-30T14:06:08.161298Z",
     "shell.execute_reply": "2022-12-30T14:06:08.160445Z"
    },
    "id": "9b42a41b",
    "outputId": "8251997f-3334-4a24-f626-ccbc7a3167bb",
    "papermill": {
     "duration": 2.154512,
     "end_time": "2022-12-30T14:06:08.163380",
     "exception": false,
     "start_time": "2022-12-30T14:06:06.008868",
     "status": "completed"
    },
    "tags": []
   },
   "outputs": [],
   "source": [
    "# Gender Vs Fraud\n",
    "# Percent distribution of fraud based on Gender\n",
    "gen_tran_total = fraud.sort_values('gender').groupby('gender').count()['is_fraud']\n",
    "gen_tran_fraud = fraud[fraud.is_fraud == 1]['gender'].value_counts()\n",
    "fraud_perc = gen_tran_fraud/ gen_tran_total * 100\n",
    "plt.title('Gender wise Fraud Transactions', fontsize= 10, color = 'Red', fontweight = 100)\n",
    "fraud_perc.sort_values().plot.bar()\n",
    "plt.show()"
   ]
  },
  {
   "cell_type": "code",
   "execution_count": null,
   "id": "536d77bb",
   "metadata": {
    "execution": {
     "iopub.execute_input": "2022-12-30T14:06:08.342810Z",
     "iopub.status.busy": "2022-12-30T14:06:08.341685Z",
     "iopub.status.idle": "2022-12-30T14:06:08.498736Z",
     "shell.execute_reply": "2022-12-30T14:06:08.497567Z"
    },
    "id": "536d77bb",
    "papermill": {
     "duration": 0.251115,
     "end_time": "2022-12-30T14:06:08.501303",
     "exception": false,
     "start_time": "2022-12-30T14:06:08.250188",
     "status": "completed"
    },
    "tags": []
   },
   "outputs": [],
   "source": [
    "# Transforming alphabetic gender data into numeric to be processed by the model\n",
    "fraud.gender = fraud.gender.map({'M': 1, \"F\": 0})\n",
    "fraud_test.gender = fraud_test.gender.map({'M': 1, \"F\": 0})"
   ]
  },
  {
   "cell_type": "code",
   "execution_count": null,
   "id": "f58e3c5b",
   "metadata": {
    "execution": {
     "iopub.execute_input": "2022-12-30T14:06:08.679041Z",
     "iopub.status.busy": "2022-12-30T14:06:08.678624Z",
     "iopub.status.idle": "2022-12-30T14:06:12.866264Z",
     "shell.execute_reply": "2022-12-30T14:06:12.865443Z"
    },
    "id": "f58e3c5b",
    "outputId": "9338a578-4f65-4569-e5a0-3f5d532e0063",
    "papermill": {
     "duration": 4.279628,
     "end_time": "2022-12-30T14:06:12.868564",
     "exception": false,
     "start_time": "2022-12-30T14:06:08.588936",
     "status": "completed"
    },
    "tags": []
   },
   "outputs": [],
   "source": [
    "# state Vs fraud\n",
    "# Percent distribution of fraud based on State\n",
    "plt.figure(figsize = (17,5))\n",
    "state_tran_total = fraud.sort_values('state').groupby('state').count()['is_fraud']\n",
    "state_tran_fraud = fraud[fraud.is_fraud == 1]['state'].value_counts()\n",
    "fraud_perc = state_tran_fraud/ state_tran_total * 100\n",
    "plt.title('state wise Fraud Transactions', fontsize= 10, color = 'Red', fontweight = 100)\n",
    "plt.ylabel('% Fraud Transactions', fontdict = {'fontsize': 10, 'color': 'Blue', 'fontweight' : '300'})\n",
    "fraud_perc.sort_values(ascending=False).plot.bar()\n",
    "plt.show()"
   ]
  },
  {
   "cell_type": "code",
   "execution_count": null,
   "id": "5c2708ae",
   "metadata": {
    "execution": {
     "iopub.execute_input": "2022-12-30T14:06:13.047949Z",
     "iopub.status.busy": "2022-12-30T14:06:13.046998Z",
     "iopub.status.idle": "2022-12-30T14:06:13.056507Z",
     "shell.execute_reply": "2022-12-30T14:06:13.055190Z"
    },
    "id": "5c2708ae",
    "outputId": "35377cb3-36c3-4f8f-b79b-fb50e7740f29",
    "papermill": {
     "duration": 0.102847,
     "end_time": "2022-12-30T14:06:13.058969",
     "exception": false,
     "start_time": "2022-12-30T14:06:12.956122",
     "status": "completed"
    },
    "tags": []
   },
   "outputs": [],
   "source": [
    "fraud_perc.sort_values(ascending=False).head()"
   ]
  },
  {
   "cell_type": "markdown",
   "id": "bfbda237",
   "metadata": {
    "id": "bfbda237",
    "papermill": {
     "duration": 0.087683,
     "end_time": "2022-12-30T14:06:13.234160",
     "exception": false,
     "start_time": "2022-12-30T14:06:13.146477",
     "status": "completed"
    },
    "tags": []
   },
   "source": [
    "This is very significant. While the number of transactions in DE is very less, all of them are fraud transaction. Rest all the states have very low fraud transaction."
   ]
  },
  {
   "cell_type": "code",
   "execution_count": null,
   "id": "41e2f98a",
   "metadata": {
    "execution": {
     "iopub.execute_input": "2022-12-30T14:06:13.412084Z",
     "iopub.status.busy": "2022-12-30T14:06:13.411069Z",
     "iopub.status.idle": "2022-12-30T14:06:13.960915Z",
     "shell.execute_reply": "2022-12-30T14:06:13.959891Z"
    },
    "id": "41e2f98a",
    "papermill": {
     "duration": 0.64222,
     "end_time": "2022-12-30T14:06:13.963459",
     "exception": false,
     "start_time": "2022-12-30T14:06:13.321239",
     "status": "completed"
    },
    "tags": []
   },
   "outputs": [],
   "source": [
    "# Transforming alphabetic state data into numeric to be processed by the model\n",
    "fraud.state = label_encoder.fit_transform(fraud.state)\n",
    "fraud_test.state = label_encoder.fit_transform(fraud_test.state)"
   ]
  },
  {
   "cell_type": "code",
   "execution_count": null,
   "id": "74a36ead",
   "metadata": {
    "execution": {
     "iopub.execute_input": "2022-12-30T14:06:14.140953Z",
     "iopub.status.busy": "2022-12-30T14:06:14.140261Z",
     "iopub.status.idle": "2022-12-30T14:06:17.282290Z",
     "shell.execute_reply": "2022-12-30T14:06:17.280595Z"
    },
    "id": "74a36ead",
    "outputId": "5891b72d-2e51-45cd-a0b9-303944a8901d",
    "papermill": {
     "duration": 3.234343,
     "end_time": "2022-12-30T14:06:17.285602",
     "exception": false,
     "start_time": "2022-12-30T14:06:14.051259",
     "status": "completed"
    },
    "tags": []
   },
   "outputs": [],
   "source": [
    "# Job Vs Fraud\n",
    "# Percent distribution of fraud based on Job\n",
    "job_tran_total = fraud.sort_values('job').groupby('job').count()['is_fraud']\n",
    "job_tran_fraud = fraud[fraud.is_fraud == 1]['job'].value_counts()\n",
    "fraud_perc = job_tran_fraud/ job_tran_total * 100\n",
    "fraud_perc.sort_values(ascending=False).head(20)"
   ]
  },
  {
   "cell_type": "markdown",
   "id": "e6f15f03",
   "metadata": {
    "id": "e6f15f03",
    "papermill": {
     "duration": 0.087002,
     "end_time": "2022-12-30T14:06:17.477379",
     "exception": false,
     "start_time": "2022-12-30T14:06:17.390377",
     "status": "completed"
    },
    "tags": []
   },
   "source": [
    "There seems certain jobs that have real high % of fraud transactions."
   ]
  },
  {
   "cell_type": "code",
   "execution_count": null,
   "id": "9db414f5",
   "metadata": {
    "execution": {
     "iopub.execute_input": "2022-12-30T14:06:17.657885Z",
     "iopub.status.busy": "2022-12-30T14:06:17.656693Z",
     "iopub.status.idle": "2022-12-30T14:06:18.178184Z",
     "shell.execute_reply": "2022-12-30T14:06:18.176827Z"
    },
    "id": "9db414f5",
    "papermill": {
     "duration": 0.61588,
     "end_time": "2022-12-30T14:06:18.180967",
     "exception": false,
     "start_time": "2022-12-30T14:06:17.565087",
     "status": "completed"
    },
    "tags": []
   },
   "outputs": [],
   "source": [
    "# Transforming alphabetic job data into numeric to be processed by the model\n",
    "fraud.job = label_encoder.fit_transform(fraud.job)\n",
    "fraud_test.job = label_encoder.fit_transform(fraud_test.job)"
   ]
  },
  {
   "cell_type": "code",
   "execution_count": null,
   "id": "d775abbf",
   "metadata": {
    "execution": {
     "iopub.execute_input": "2022-12-30T14:06:18.361483Z",
     "iopub.status.busy": "2022-12-30T14:06:18.361001Z",
     "iopub.status.idle": "2022-12-30T14:06:18.716920Z",
     "shell.execute_reply": "2022-12-30T14:06:18.715733Z"
    },
    "id": "d775abbf",
    "outputId": "0f8b0487-043c-456f-f758-89c99c9b07a5",
    "papermill": {
     "duration": 0.449277,
     "end_time": "2022-12-30T14:06:18.719405",
     "exception": false,
     "start_time": "2022-12-30T14:06:18.270128",
     "status": "completed"
    },
    "tags": []
   },
   "outputs": [],
   "source": [
    "# Fraud Vs City Population\n",
    "plt.figure(figsize=[15,6])\n",
    "temp = fraud[fraud.is_fraud == 1]\n",
    "plt.title('Distribution of City Population on Fraud Transaction', fontsize= 10, color = 'Red', fontweight = 100)\n",
    "plt.hist(temp.city_pop, edgecolor='Black')\n",
    "plt.xticks(np.arange(10000, 3000000, step=300000))\n",
    "plt.show()"
   ]
  },
  {
   "cell_type": "markdown",
   "id": "b01d6b6f",
   "metadata": {
    "id": "b01d6b6f",
    "papermill": {
     "duration": 0.088724,
     "end_time": "2022-12-30T14:06:18.896421",
     "exception": false,
     "start_time": "2022-12-30T14:06:18.807697",
     "status": "completed"
    },
    "tags": []
   },
   "source": [
    "Cities with less population, tends to have more fraud cases."
   ]
  },
  {
   "cell_type": "code",
   "execution_count": null,
   "id": "74b9f44a",
   "metadata": {
    "execution": {
     "iopub.execute_input": "2022-12-30T14:06:19.076957Z",
     "iopub.status.busy": "2022-12-30T14:06:19.076546Z",
     "iopub.status.idle": "2022-12-30T14:06:21.518552Z",
     "shell.execute_reply": "2022-12-30T14:06:21.517445Z"
    },
    "id": "74b9f44a",
    "outputId": "17dd633d-e5d4-4ced-be5e-1b80f802dd30",
    "papermill": {
     "duration": 2.535853,
     "end_time": "2022-12-30T14:06:21.521059",
     "exception": false,
     "start_time": "2022-12-30T14:06:18.985206",
     "status": "completed"
    },
    "tags": []
   },
   "outputs": [],
   "source": [
    "# Fraud Vs Unix Time\n",
    "plt.title('Fraud Vs unix_time', fontsize= 10, color = 'Red', fontweight = 100)\n",
    "plt.scatter(fraud.unix_time, fraud.is_fraud)\n",
    "plt.show()"
   ]
  },
  {
   "cell_type": "code",
   "execution_count": null,
   "id": "8442a27d",
   "metadata": {
    "execution": {
     "iopub.execute_input": "2022-12-30T14:06:21.700621Z",
     "iopub.status.busy": "2022-12-30T14:06:21.699957Z",
     "iopub.status.idle": "2022-12-30T14:06:21.946457Z",
     "shell.execute_reply": "2022-12-30T14:06:21.945144Z"
    },
    "id": "8442a27d",
    "outputId": "00bf3fc5-dd98-4abd-faf6-b715c8206899",
    "papermill": {
     "duration": 0.338702,
     "end_time": "2022-12-30T14:06:21.948973",
     "exception": false,
     "start_time": "2022-12-30T14:06:21.610271",
     "status": "completed"
    },
    "tags": []
   },
   "outputs": [],
   "source": [
    "# Fraud Vs Age\n",
    "temp = fraud[fraud.is_fraud == 1]\n",
    "plt.title('Distribution of Age', fontsize= 10, color = 'Red', fontweight = 100)\n",
    "plt.hist(temp.age, edgecolor='Black')\n",
    "plt.xticks(np.arange(10, 100, step=10))\n",
    "plt.show()"
   ]
  },
  {
   "cell_type": "markdown",
   "id": "773912b3",
   "metadata": {
    "id": "773912b3",
    "papermill": {
     "duration": 0.08761,
     "end_time": "2022-12-30T14:06:22.126501",
     "exception": false,
     "start_time": "2022-12-30T14:06:22.038891",
     "status": "completed"
    },
    "tags": []
   },
   "source": [
    "So, people in age group 50 to 60 tends to be slightly more victims of fraud."
   ]
  },
  {
   "cell_type": "code",
   "execution_count": null,
   "id": "7b33de0e",
   "metadata": {
    "execution": {
     "iopub.execute_input": "2022-12-30T14:06:22.304398Z",
     "iopub.status.busy": "2022-12-30T14:06:22.303976Z",
     "iopub.status.idle": "2022-12-30T14:06:23.727311Z",
     "shell.execute_reply": "2022-12-30T14:06:23.726218Z"
    },
    "id": "7b33de0e",
    "outputId": "3b358894-b39a-485f-f03c-7d68d039985e",
    "papermill": {
     "duration": 1.51536,
     "end_time": "2022-12-30T14:06:23.729920",
     "exception": false,
     "start_time": "2022-12-30T14:06:22.214560",
     "status": "completed"
    },
    "tags": []
   },
   "outputs": [],
   "source": [
    "# Fraud Vs Zip\n",
    "zip_tran_total = fraud.sort_values('zip').groupby('zip').count()['is_fraud']\n",
    "zip_tran_fraud = fraud[fraud.is_fraud == 1]['zip'].value_counts()\n",
    "fraud_perc = zip_tran_fraud/ zip_tran_total * 100\n",
    "fraud_perc.sort_values(ascending=False).head(25)"
   ]
  },
  {
   "cell_type": "markdown",
   "id": "c0d2d02d",
   "metadata": {
    "id": "c0d2d02d",
    "papermill": {
     "duration": 0.098392,
     "end_time": "2022-12-30T14:06:23.918930",
     "exception": false,
     "start_time": "2022-12-30T14:06:23.820538",
     "status": "completed"
    },
    "tags": []
   },
   "source": [
    "As is evident from above stats, there are perticular ZIP codes that have 100% frauds."
   ]
  },
  {
   "cell_type": "code",
   "execution_count": null,
   "id": "f30414cc",
   "metadata": {
    "execution": {
     "iopub.execute_input": "2022-12-30T14:06:24.101845Z",
     "iopub.status.busy": "2022-12-30T14:06:24.101421Z",
     "iopub.status.idle": "2022-12-30T14:06:25.535897Z",
     "shell.execute_reply": "2022-12-30T14:06:25.534259Z"
    },
    "id": "f30414cc",
    "outputId": "58fa3ea9-f028-4bd9-fb75-17612c436ea4",
    "papermill": {
     "duration": 1.529912,
     "end_time": "2022-12-30T14:06:25.539078",
     "exception": false,
     "start_time": "2022-12-30T14:06:24.009166",
     "status": "completed"
    },
    "tags": []
   },
   "outputs": [],
   "source": [
    "# Fraud Vs lat\n",
    "lat_tran_total = fraud.sort_values('lat').groupby('lat').count()['is_fraud']\n",
    "lat_tran_fraud = fraud[fraud.is_fraud == 1]['lat'].value_counts()\n",
    "fraud_perc = lat_tran_fraud/ lat_tran_total * 100\n",
    "fraud_perc.sort_values(ascending=False).head()"
   ]
  },
  {
   "cell_type": "markdown",
   "id": "8b2e8123",
   "metadata": {
    "id": "8b2e8123",
    "papermill": {
     "duration": 0.087829,
     "end_time": "2022-12-30T14:06:25.717705",
     "exception": false,
     "start_time": "2022-12-30T14:06:25.629876",
     "status": "completed"
    },
    "tags": []
   },
   "source": [
    "As is evident from above stats, there are perticular latitudes codes that have 100% frauds."
   ]
  },
  {
   "cell_type": "code",
   "execution_count": null,
   "id": "033428ee",
   "metadata": {
    "execution": {
     "iopub.execute_input": "2022-12-30T14:06:25.895413Z",
     "iopub.status.busy": "2022-12-30T14:06:25.894992Z",
     "iopub.status.idle": "2022-12-30T14:06:27.307689Z",
     "shell.execute_reply": "2022-12-30T14:06:27.306660Z"
    },
    "id": "033428ee",
    "outputId": "804d64b2-2a36-48b4-c9cd-7f675ad4c2be",
    "papermill": {
     "duration": 1.504935,
     "end_time": "2022-12-30T14:06:27.310504",
     "exception": false,
     "start_time": "2022-12-30T14:06:25.805569",
     "status": "completed"
    },
    "tags": []
   },
   "outputs": [],
   "source": [
    "# Fraud Vs long\n",
    "long_tran_total = fraud.sort_values('long').groupby('long').count()['is_fraud']\n",
    "long_tran_fraud = fraud[fraud.is_fraud == 1]['long'].value_counts()\n",
    "fraud_perc = long_tran_fraud/ long_tran_total * 100\n",
    "fraud_perc.sort_values(ascending=False).head()"
   ]
  },
  {
   "cell_type": "code",
   "execution_count": null,
   "id": "60262210",
   "metadata": {
    "execution": {
     "iopub.execute_input": "2022-12-30T14:06:27.491860Z",
     "iopub.status.busy": "2022-12-30T14:06:27.491454Z",
     "iopub.status.idle": "2022-12-30T14:06:29.739933Z",
     "shell.execute_reply": "2022-12-30T14:06:29.738797Z"
    },
    "id": "60262210",
    "outputId": "97bdd57a-6d2f-45a8-ba48-4bf193adc3ef",
    "papermill": {
     "duration": 2.344556,
     "end_time": "2022-12-30T14:06:29.743804",
     "exception": false,
     "start_time": "2022-12-30T14:06:27.399248",
     "status": "completed"
    },
    "tags": []
   },
   "outputs": [],
   "source": [
    "# Fraud Vs merch_lat\n",
    "lat_tran_total = fraud.sort_values('merch_lat').groupby('merch_lat').count()['is_fraud']\n",
    "lat_tran_fraud = fraud[fraud.is_fraud == 1]['merch_lat'].value_counts()\n",
    "fraud_perc = lat_tran_fraud/ lat_tran_total * 100\n",
    "fraud_perc.sort_values(ascending=False).head()"
   ]
  },
  {
   "cell_type": "code",
   "execution_count": null,
   "id": "06107494",
   "metadata": {
    "execution": {
     "iopub.execute_input": "2022-12-30T14:06:29.928821Z",
     "iopub.status.busy": "2022-12-30T14:06:29.928447Z",
     "iopub.status.idle": "2022-12-30T14:06:32.152005Z",
     "shell.execute_reply": "2022-12-30T14:06:32.151033Z"
    },
    "id": "06107494",
    "outputId": "edcbf65a-e149-4433-f6f1-9a29102630c6",
    "papermill": {
     "duration": 2.319311,
     "end_time": "2022-12-30T14:06:32.154540",
     "exception": false,
     "start_time": "2022-12-30T14:06:29.835229",
     "status": "completed"
    },
    "tags": []
   },
   "outputs": [],
   "source": [
    "# Fraud Vs merch_long\n",
    "long_tran_total = fraud.sort_values('merch_long').groupby('merch_long').count()['is_fraud']\n",
    "long_tran_fraud = fraud[fraud.is_fraud == 1]['merch_long'].value_counts()\n",
    "fraud_perc = long_tran_fraud/ long_tran_total * 100\n",
    "fraud_perc.sort_values(ascending=False).head()"
   ]
  },
  {
   "cell_type": "markdown",
   "id": "b88ee5d1",
   "metadata": {
    "id": "b88ee5d1",
    "papermill": {
     "duration": 0.089342,
     "end_time": "2022-12-30T14:06:32.333264",
     "exception": false,
     "start_time": "2022-12-30T14:06:32.243922",
     "status": "completed"
    },
    "tags": []
   },
   "source": [
    "1. There are multiple demographies - Zip, City, States, Latitudes, Longitudes and Job types that have only Fraud transactions.\n",
    "2. Even though they have 100% frauds, the number of transactions is very low. For Example State DE had only 9 transactions in 2 years. Hence, it is very less likely to impact the model."
   ]
  },
  {
   "cell_type": "code",
   "execution_count": null,
   "id": "5431bec0",
   "metadata": {
    "execution": {
     "iopub.execute_input": "2022-12-30T14:06:32.514511Z",
     "iopub.status.busy": "2022-12-30T14:06:32.513679Z",
     "iopub.status.idle": "2022-12-30T14:06:33.166619Z",
     "shell.execute_reply": "2022-12-30T14:06:33.165218Z"
    },
    "id": "5431bec0",
    "outputId": "44082a89-d26b-492b-fc6a-7a90a5de4479",
    "papermill": {
     "duration": 0.748012,
     "end_time": "2022-12-30T14:06:33.169839",
     "exception": false,
     "start_time": "2022-12-30T14:06:32.421827",
     "status": "completed"
    },
    "tags": []
   },
   "outputs": [],
   "source": [
    "# Fraud Vs trans_date\n",
    "fraud['trans_date'] =  pd.to_datetime(fraud['trans_date'])\n",
    "plt.figure(figsize=[15,5])\n",
    "fraud.groupby(['trans_date'])['is_fraud'].sum().plot()\n",
    "plt.show()"
   ]
  },
  {
   "cell_type": "code",
   "execution_count": null,
   "id": "6df6b881",
   "metadata": {
    "id": "6df6b881",
    "papermill": {
     "duration": 0.092754,
     "end_time": "2022-12-30T14:06:33.357029",
     "exception": false,
     "start_time": "2022-12-30T14:06:33.264275",
     "status": "completed"
    },
    "tags": []
   },
   "outputs": [],
   "source": []
  },
  {
   "cell_type": "markdown",
   "id": "8a23eff7",
   "metadata": {
    "id": "8a23eff7",
    "papermill": {
     "duration": 0.096596,
     "end_time": "2022-12-30T14:06:33.552218",
     "exception": false,
     "start_time": "2022-12-30T14:06:33.455622",
     "status": "completed"
    },
    "tags": []
   },
   "source": [
    "Now its time to change date and time to a format more acceptable for modelling. Before that, lets pull some stats required for Cost sheet. Also, it may be noticed that the train data is for 1.5 years (full 2019 till mid of 2020) and test data is for last 6 months of 2020. This way we will be able to build model on 1.5 year of data and test it on future data and hence check model performance in future. We will do the Cost Benifit analysis on the entire data."
   ]
  },
  {
   "cell_type": "code",
   "execution_count": null,
   "id": "d6e3ebb8",
   "metadata": {
    "execution": {
     "iopub.execute_input": "2022-12-30T14:06:33.748477Z",
     "iopub.status.busy": "2022-12-30T14:06:33.747565Z",
     "iopub.status.idle": "2022-12-30T14:06:34.033765Z",
     "shell.execute_reply": "2022-12-30T14:06:34.032341Z"
    },
    "id": "d6e3ebb8",
    "outputId": "0df7d7b3-b2d9-4902-d9ba-b563d35d2ef0",
    "papermill": {
     "duration": 0.387188,
     "end_time": "2022-12-30T14:06:34.036705",
     "exception": false,
     "start_time": "2022-12-30T14:06:33.649517",
     "status": "completed"
    },
    "tags": []
   },
   "outputs": [],
   "source": [
    "# Total number of months\n",
    "date_fraud = fraud.trans_date\n",
    "date_fraud_test = pd.to_datetime(fraud_test.trans_date)\n",
    "date_fraud = date_fraud.dt.to_period('M')\n",
    "date_fraud_test = date_fraud_test.dt.to_period('M')\n",
    "date = pd.concat([date_fraud, date_fraud_test])\n",
    "print ('total number of records in file: ', date.size)"
   ]
  },
  {
   "cell_type": "code",
   "execution_count": null,
   "id": "6c1c3d0f",
   "metadata": {
    "execution": {
     "iopub.execute_input": "2022-12-30T14:06:34.250286Z",
     "iopub.status.busy": "2022-12-30T14:06:34.249865Z",
     "iopub.status.idle": "2022-12-30T14:06:34.281782Z",
     "shell.execute_reply": "2022-12-30T14:06:34.280859Z"
    },
    "id": "6c1c3d0f",
    "outputId": "4940db74-63f5-4368-c315-7b75f423af98",
    "papermill": {
     "duration": 0.151265,
     "end_time": "2022-12-30T14:06:34.284539",
     "exception": false,
     "start_time": "2022-12-30T14:06:34.133274",
     "status": "completed"
    },
    "tags": []
   },
   "outputs": [],
   "source": [
    "print ('Total number of months: ', date.value_counts().size)"
   ]
  },
  {
   "cell_type": "code",
   "execution_count": null,
   "id": "bf1cbfd5",
   "metadata": {
    "execution": {
     "iopub.execute_input": "2022-12-30T14:06:34.483948Z",
     "iopub.status.busy": "2022-12-30T14:06:34.483484Z",
     "iopub.status.idle": "2022-12-30T14:06:34.513167Z",
     "shell.execute_reply": "2022-12-30T14:06:34.511590Z"
    },
    "id": "bf1cbfd5",
    "outputId": "477c75cd-93de-4a9a-fba0-edaa788e965b",
    "papermill": {
     "duration": 0.134502,
     "end_time": "2022-12-30T14:06:34.517010",
     "exception": false,
     "start_time": "2022-12-30T14:06:34.382508",
     "status": "completed"
    },
    "tags": []
   },
   "outputs": [],
   "source": [
    "print ('Average transactions per month: ', round(date.size/date.value_counts().size,0) )"
   ]
  },
  {
   "cell_type": "code",
   "execution_count": null,
   "id": "ace2bdeb",
   "metadata": {
    "execution": {
     "iopub.execute_input": "2022-12-30T14:06:34.716136Z",
     "iopub.status.busy": "2022-12-30T14:06:34.715179Z",
     "iopub.status.idle": "2022-12-30T14:06:34.786490Z",
     "shell.execute_reply": "2022-12-30T14:06:34.785306Z"
    },
    "id": "ace2bdeb",
    "outputId": "4ecaf0d4-9e83-416b-e30b-3a5d4ebea526",
    "papermill": {
     "duration": 0.173812,
     "end_time": "2022-12-30T14:06:34.789120",
     "exception": false,
     "start_time": "2022-12-30T14:06:34.615308",
     "status": "completed"
    },
    "tags": []
   },
   "outputs": [],
   "source": [
    "# Extracting fraud data\n",
    "temp1 = fraud[['amt', 'is_fraud']]\n",
    "temp2 = fraud_test[['amt', 'is_fraud']]\n",
    "temp = pd.concat([temp1, temp2])\n",
    "temp.shape"
   ]
  },
  {
   "cell_type": "code",
   "execution_count": null,
   "id": "77dc1da5",
   "metadata": {
    "execution": {
     "iopub.execute_input": "2022-12-30T14:06:34.984073Z",
     "iopub.status.busy": "2022-12-30T14:06:34.983089Z",
     "iopub.status.idle": "2022-12-30T14:06:35.023715Z",
     "shell.execute_reply": "2022-12-30T14:06:35.022268Z"
    },
    "id": "77dc1da5",
    "outputId": "49eadd34-0ad7-419a-fb74-86c08b8d905c",
    "papermill": {
     "duration": 0.141593,
     "end_time": "2022-12-30T14:06:35.026530",
     "exception": false,
     "start_time": "2022-12-30T14:06:34.884937",
     "status": "completed"
    },
    "tags": []
   },
   "outputs": [],
   "source": [
    "# Average frauds per month\n",
    "fraud_temp = temp[temp.is_fraud == 1]\n",
    "print ('Average fraud transactions per month: ', round(fraud_temp.shape[0]/ date.value_counts().size,0))"
   ]
  },
  {
   "cell_type": "code",
   "execution_count": null,
   "id": "9466d9c2",
   "metadata": {
    "execution": {
     "iopub.execute_input": "2022-12-30T14:06:35.224278Z",
     "iopub.status.busy": "2022-12-30T14:06:35.223876Z",
     "iopub.status.idle": "2022-12-30T14:06:35.230749Z",
     "shell.execute_reply": "2022-12-30T14:06:35.229526Z"
    },
    "id": "9466d9c2",
    "outputId": "588ee787-8af8-4202-ffe6-b3b9dc189ac0",
    "papermill": {
     "duration": 0.109811,
     "end_time": "2022-12-30T14:06:35.233147",
     "exception": false,
     "start_time": "2022-12-30T14:06:35.123336",
     "status": "completed"
    },
    "tags": []
   },
   "outputs": [],
   "source": [
    "# Average amount per fraud transaction\n",
    "print ('Average amount per fraud transaction: ', round(sum(fraud_temp.amt)/ fraud_temp.shape[0], 2))"
   ]
  },
  {
   "cell_type": "code",
   "execution_count": null,
   "id": "3876feca",
   "metadata": {
    "execution": {
     "iopub.execute_input": "2022-12-30T14:06:35.427715Z",
     "iopub.status.busy": "2022-12-30T14:06:35.426985Z",
     "iopub.status.idle": "2022-12-30T14:06:35.433266Z",
     "shell.execute_reply": "2022-12-30T14:06:35.432399Z"
    },
    "id": "3876feca",
    "outputId": "459cf9f0-35e3-48b2-ddc2-84334fa39547",
    "papermill": {
     "duration": 0.106075,
     "end_time": "2022-12-30T14:06:35.435454",
     "exception": false,
     "start_time": "2022-12-30T14:06:35.329379",
     "status": "completed"
    },
    "tags": []
   },
   "outputs": [],
   "source": [
    "# Average amount per fraud transaction\n",
    "print ('max fraud amount : ' , max(fraud_temp.amt))"
   ]
  },
  {
   "cell_type": "code",
   "execution_count": null,
   "id": "4940bd03",
   "metadata": {
    "execution": {
     "iopub.execute_input": "2022-12-30T14:06:35.630991Z",
     "iopub.status.busy": "2022-12-30T14:06:35.630566Z",
     "iopub.status.idle": "2022-12-30T14:06:42.536325Z",
     "shell.execute_reply": "2022-12-30T14:06:42.535218Z"
    },
    "id": "4940bd03",
    "outputId": "58b07897-9cec-48c8-f144-654c4d54b9b2",
    "papermill": {
     "duration": 7.006687,
     "end_time": "2022-12-30T14:06:42.538873",
     "exception": false,
     "start_time": "2022-12-30T14:06:35.532186",
     "status": "completed"
    },
    "tags": []
   },
   "outputs": [],
   "source": [
    "# Fraud Vs trans_time\n",
    "import datetime as dt\n",
    "fraud.trans_date = fraud.trans_date.map(dt.datetime.toordinal)\n",
    "plt.figure(figsize=[25,5])\n",
    "plt.title('Transactions Spread throughout the Day', fontsize= 10, color = 'Red', fontweight = 100)\n",
    "fraud.groupby(['trans_time'])['is_fraud'].sum().plot()\n",
    "plt.show()"
   ]
  },
  {
   "cell_type": "markdown",
   "id": "7da33c68",
   "metadata": {
    "id": "7da33c68",
    "papermill": {
     "duration": 0.095814,
     "end_time": "2022-12-30T14:06:42.734408",
     "exception": false,
     "start_time": "2022-12-30T14:06:42.638594",
     "status": "completed"
    },
    "tags": []
   },
   "source": [
    "So, late nights and early mornings are the most prone time for frauds. Highest frequency of frauds is between 10 pm to 12 am. 12 am to 4:00 am also shows very high frequency of fraud transactions."
   ]
  },
  {
   "cell_type": "code",
   "execution_count": null,
   "id": "45e88d0c",
   "metadata": {
    "execution": {
     "iopub.execute_input": "2022-12-30T14:06:42.933585Z",
     "iopub.status.busy": "2022-12-30T14:06:42.932887Z",
     "iopub.status.idle": "2022-12-30T14:06:47.840249Z",
     "shell.execute_reply": "2022-12-30T14:06:47.839107Z"
    },
    "id": "45e88d0c",
    "outputId": "7ac9c9bb-f49a-458a-a92c-c32a3a50c995",
    "papermill": {
     "duration": 5.009114,
     "end_time": "2022-12-30T14:06:47.842629",
     "exception": false,
     "start_time": "2022-12-30T14:06:42.833515",
     "status": "completed"
    },
    "tags": []
   },
   "outputs": [],
   "source": [
    "# Converting trans_time into seconds & ploting the above graph again\n",
    "fraud.trans_time = pd.to_datetime(fraud.trans_time,format='%H:%M:%S')\n",
    "fraud.trans_time = 3600 * pd.DatetimeIndex(fraud.trans_time).hour + 60 * pd.DatetimeIndex(fraud.trans_time).minute + pd.DatetimeIndex(fraud.trans_time).second\n",
    "plt.figure(figsize=[25,5])\n",
    "plt.xticks(np.arange(0,90000,5000))\n",
    "fraud.groupby(['trans_time'])['is_fraud'].sum().plot()\n",
    "plt.show()"
   ]
  },
  {
   "cell_type": "code",
   "execution_count": null,
   "id": "76d8f3e9",
   "metadata": {
    "execution": {
     "iopub.execute_input": "2022-12-30T14:06:48.042463Z",
     "iopub.status.busy": "2022-12-30T14:06:48.041854Z",
     "iopub.status.idle": "2022-12-30T14:06:52.708031Z",
     "shell.execute_reply": "2022-12-30T14:06:52.706915Z"
    },
    "id": "76d8f3e9",
    "papermill": {
     "duration": 4.770041,
     "end_time": "2022-12-30T14:06:52.710940",
     "exception": false,
     "start_time": "2022-12-30T14:06:47.940899",
     "status": "completed"
    },
    "tags": []
   },
   "outputs": [],
   "source": [
    "# Similar data-time changes in test dataset\n",
    "fraud_test['trans_date'] =  pd.to_datetime(fraud_test['trans_date'])\n",
    "fraud_test.trans_date = fraud_test.trans_date.map(dt.datetime.toordinal)\n",
    "fraud_test.trans_time = pd.to_datetime(fraud_test.trans_time,format='%H:%M:%S')\n",
    "fraud_test.trans_time = 3600 * pd.DatetimeIndex(fraud_test.trans_time).hour + 60 * pd.DatetimeIndex(fraud_test.trans_time).minute + pd.DatetimeIndex(fraud_test.trans_time).second"
   ]
  },
  {
   "cell_type": "code",
   "execution_count": 6,
   "id": "904bacee",
   "metadata": {
    "execution": {
     "iopub.execute_input": "2022-12-30T14:06:52.918290Z",
     "iopub.status.busy": "2022-12-30T14:06:52.917891Z",
     "iopub.status.idle": "2022-12-30T14:06:52.923947Z",
     "shell.execute_reply": "2022-12-30T14:06:52.922679Z"
    },
    "id": "904bacee",
    "outputId": "17dace22-a85a-4263-9f7f-3648a090350f",
    "papermill": {
     "duration": 0.112217,
     "end_time": "2022-12-30T14:06:52.927313",
     "exception": false,
     "start_time": "2022-12-30T14:06:52.815096",
     "status": "completed"
    },
    "tags": []
   },
   "outputs": [
    {
     "ename": "NameError",
     "evalue": "name 'fraud' is not defined",
     "output_type": "error",
     "traceback": [
      "\u001b[1;31m---------------------------------------------------------------------------\u001b[0m",
      "\u001b[1;31mNameError\u001b[0m                                 Traceback (most recent call last)",
      "\u001b[1;32m~\\AppData\\Local\\Temp\\ipykernel_13264\\2668371025.py\u001b[0m in \u001b[0;36m<module>\u001b[1;34m\u001b[0m\n\u001b[1;32m----> 1\u001b[1;33m \u001b[0mprint\u001b[0m \u001b[1;33m(\u001b[0m\u001b[1;34m'train : '\u001b[0m\u001b[1;33m,\u001b[0m \u001b[0mfraud\u001b[0m\u001b[1;33m.\u001b[0m\u001b[0mshape\u001b[0m\u001b[1;33m)\u001b[0m\u001b[1;33m\u001b[0m\u001b[1;33m\u001b[0m\u001b[0m\n\u001b[0m\u001b[0;32m      2\u001b[0m \u001b[0mprint\u001b[0m \u001b[1;33m(\u001b[0m\u001b[1;34m'test : '\u001b[0m\u001b[1;33m,\u001b[0m \u001b[0mfraud_test\u001b[0m\u001b[1;33m.\u001b[0m\u001b[0mshape\u001b[0m\u001b[1;33m)\u001b[0m\u001b[1;33m\u001b[0m\u001b[1;33m\u001b[0m\u001b[0m\n",
      "\u001b[1;31mNameError\u001b[0m: name 'fraud' is not defined"
     ]
    }
   ],
   "source": [
    "print ('train : ', fraud.shape)\n",
    "print ('test : ', fraud_test.shape)"
   ]
  },
  {
   "cell_type": "code",
   "execution_count": null,
   "id": "596a0e33",
   "metadata": {
    "execution": {
     "iopub.execute_input": "2022-12-30T14:06:53.128798Z",
     "iopub.status.busy": "2022-12-30T14:06:53.128406Z",
     "iopub.status.idle": "2022-12-30T14:06:53.154574Z",
     "shell.execute_reply": "2022-12-30T14:06:53.153280Z"
    },
    "id": "596a0e33",
    "outputId": "ca8eac6d-49d7-4c8d-89ee-0cbec15c5311",
    "papermill": {
     "duration": 0.130036,
     "end_time": "2022-12-30T14:06:53.157133",
     "exception": false,
     "start_time": "2022-12-30T14:06:53.027097",
     "status": "completed"
    },
    "tags": []
   },
   "outputs": [],
   "source": [
    "fraud"
   ]
  },
  {
   "cell_type": "code",
   "execution_count": null,
   "id": "98527c58",
   "metadata": {
    "id": "98527c58",
    "papermill": {
     "duration": 0.0951,
     "end_time": "2022-12-30T14:06:53.350782",
     "exception": false,
     "start_time": "2022-12-30T14:06:53.255682",
     "status": "completed"
    },
    "tags": []
   },
   "outputs": [],
   "source": [
    "corr = fraud.corr()\n",
    "corr.style.background_gradient(cmap='coolwarm')"
   ]
  },
  {
   "cell_type": "code",
   "execution_count": null,
   "id": "a108ba23",
   "metadata": {
    "id": "a108ba23",
    "papermill": {
     "duration": 0.098023,
     "end_time": "2022-12-30T14:06:53.546730",
     "exception": false,
     "start_time": "2022-12-30T14:06:53.448707",
     "status": "completed"
    },
    "tags": []
   },
   "outputs": [],
   "source": []
  },
  {
   "cell_type": "markdown",
   "id": "595738f1",
   "metadata": {
    "id": "595738f1",
    "papermill": {
     "duration": 0.099425,
     "end_time": "2022-12-30T14:06:53.744272",
     "exception": false,
     "start_time": "2022-12-30T14:06:53.644847",
     "status": "completed"
    },
    "tags": []
   },
   "source": [
    "# Advance EDA (optional)"
   ]
  },
  {
   "cell_type": "code",
   "execution_count": null,
   "id": "da96190e",
   "metadata": {
    "execution": {
     "iopub.execute_input": "2022-12-30T14:06:53.943266Z",
     "iopub.status.busy": "2022-12-30T14:06:53.942458Z",
     "iopub.status.idle": "2022-12-30T14:06:53.947461Z",
     "shell.execute_reply": "2022-12-30T14:06:53.946602Z"
    },
    "id": "da96190e",
    "papermill": {
     "duration": 0.106987,
     "end_time": "2022-12-30T14:06:53.949790",
     "exception": false,
     "start_time": "2022-12-30T14:06:53.842803",
     "status": "completed"
    },
    "tags": []
   },
   "outputs": [],
   "source": [
    "df_train = fraud\n",
    "df_test = fraud_test"
   ]
  },
  {
   "cell_type": "code",
   "execution_count": null,
   "id": "9344bd50",
   "metadata": {
    "execution": {
     "iopub.execute_input": "2022-12-30T14:06:54.150525Z",
     "iopub.status.busy": "2022-12-30T14:06:54.149746Z",
     "iopub.status.idle": "2022-12-30T14:06:54.155817Z",
     "shell.execute_reply": "2022-12-30T14:06:54.155012Z"
    },
    "id": "9344bd50",
    "papermill": {
     "duration": 0.108897,
     "end_time": "2022-12-30T14:06:54.158381",
     "exception": false,
     "start_time": "2022-12-30T14:06:54.049484",
     "status": "completed"
    },
    "tags": []
   },
   "outputs": [],
   "source": [
    "df_train.rename(columns={\"trans_date_trans_time\":\"transaction_time\",\n",
    "                         \"cc_num\":\"credit_card_number\",\n",
    "                         \"amt\":\"amount(usd)\",\n",
    "                         \"trans_num\":\"transaction_id\"},\n",
    "                inplace=True)"
   ]
  },
  {
   "cell_type": "markdown",
   "id": "0f2390b7",
   "metadata": {
    "id": "0f2390b7",
    "papermill": {
     "duration": 0.097365,
     "end_time": "2022-12-30T14:06:54.354448",
     "exception": false,
     "start_time": "2022-12-30T14:06:54.257083",
     "status": "completed"
    },
    "tags": []
   },
   "source": [
    "> **Convert datetime columns**   \n",
    "*transaction_time* and *dob* should be in pd.datetime format and we also convert unix_time to exact timestamp"
   ]
  },
  {
   "cell_type": "code",
   "execution_count": null,
   "id": "4e501833",
   "metadata": {
    "execution": {
     "iopub.execute_input": "2022-12-30T14:06:54.551924Z",
     "iopub.status.busy": "2022-12-30T14:06:54.551271Z",
     "iopub.status.idle": "2022-12-30T14:06:54.756710Z",
     "shell.execute_reply": "2022-12-30T14:06:54.754857Z"
    },
    "id": "4e501833",
    "outputId": "e9ca274a-42ba-403b-ea49-48fd4aba22cb",
    "papermill": {
     "duration": 0.306808,
     "end_time": "2022-12-30T14:06:54.758999",
     "exception": true,
     "start_time": "2022-12-30T14:06:54.452191",
     "status": "failed"
    },
    "tags": []
   },
   "outputs": [],
   "source": [
    "df_train[\"transaction_time\"] = pd.to_datetime(df_train[\"transaction_time\"], infer_datetime_format=True)\n",
    "df_train[\"dob\"] = pd.to_datetime(df_train[\"dob\"], infer_datetime_format=True)"
   ]
  },
  {
   "cell_type": "code",
   "execution_count": null,
   "id": "c9c38a34",
   "metadata": {
    "execution": {
     "iopub.execute_input": "2022-05-27T10:24:56.951582Z",
     "iopub.status.busy": "2022-05-27T10:24:56.951267Z",
     "iopub.status.idle": "2022-05-27T10:24:58.269458Z",
     "shell.execute_reply": "2022-05-27T10:24:58.268641Z",
     "shell.execute_reply.started": "2022-05-27T10:24:56.951555Z"
    },
    "id": "c9c38a34",
    "papermill": {
     "duration": null,
     "end_time": null,
     "exception": null,
     "start_time": null,
     "status": "pending"
    },
    "tags": []
   },
   "outputs": [],
   "source": [
    "from datetime import datetime\n",
    "\n",
    "# Apply function utcfromtimestamp and drop column unix_time\n",
    "df_train['time'] = df_train['unix_time'].apply(datetime.utcfromtimestamp)\n",
    "df_train.drop('unix_time', axis=1)\n",
    "\n",
    "# Add cloumn hour of day\n",
    "df_train['hour_of_day'] = df_train.time.dt.hour"
   ]
  },
  {
   "cell_type": "code",
   "execution_count": null,
   "id": "9489ccff",
   "metadata": {
    "execution": {
     "iopub.execute_input": "2022-05-27T10:24:58.271499Z",
     "iopub.status.busy": "2022-05-27T10:24:58.270895Z",
     "iopub.status.idle": "2022-05-27T10:24:58.334995Z",
     "shell.execute_reply": "2022-05-27T10:24:58.334091Z",
     "shell.execute_reply.started": "2022-05-27T10:24:58.271458Z"
    },
    "id": "9489ccff",
    "papermill": {
     "duration": null,
     "end_time": null,
     "exception": null,
     "start_time": null,
     "status": "pending"
    },
    "tags": []
   },
   "outputs": [],
   "source": [
    "df_train[['time','hour_of_day']]"
   ]
  },
  {
   "cell_type": "markdown",
   "id": "04f6adf3",
   "metadata": {
    "id": "04f6adf3",
    "papermill": {
     "duration": null,
     "end_time": null,
     "exception": null,
     "start_time": null,
     "status": "pending"
    },
    "tags": []
   },
   "source": [
    "> **Convert dtypes**   \n",
    "Credit card number should be integer, let's change."
   ]
  },
  {
   "cell_type": "code",
   "execution_count": null,
   "id": "60f29fbf",
   "metadata": {
    "execution": {
     "iopub.execute_input": "2022-05-27T10:24:58.337275Z",
     "iopub.status.busy": "2022-05-27T10:24:58.336345Z",
     "iopub.status.idle": "2022-05-27T10:24:59.852074Z",
     "shell.execute_reply": "2022-05-27T10:24:59.851008Z",
     "shell.execute_reply.started": "2022-05-27T10:24:58.337234Z"
    },
    "id": "60f29fbf",
    "papermill": {
     "duration": null,
     "end_time": null,
     "exception": null,
     "start_time": null,
     "status": "pending"
    },
    "tags": []
   },
   "outputs": [],
   "source": [
    "# Change dtypes\n",
    "df_train.credit_card_number = df_train.credit_card_number.astype('category')\n",
    "df_train.is_fraud = df_train.is_fraud.astype('category')\n",
    "df_train.hour_of_day = df_train.hour_of_day.astype('category')\n",
    "\n",
    "# Check\n",
    "df_train.info()"
   ]
  },
  {
   "cell_type": "code",
   "execution_count": null,
   "id": "0e21baaf",
   "metadata": {
    "execution": {
     "iopub.execute_input": "2022-05-27T10:24:59.853761Z",
     "iopub.status.busy": "2022-05-27T10:24:59.853358Z",
     "iopub.status.idle": "2022-05-27T10:25:00.313164Z",
     "shell.execute_reply": "2022-05-27T10:25:00.312224Z",
     "shell.execute_reply.started": "2022-05-27T10:24:59.853730Z"
    },
    "id": "0e21baaf",
    "papermill": {
     "duration": null,
     "end_time": null,
     "exception": null,
     "start_time": null,
     "status": "pending"
    },
    "tags": []
   },
   "outputs": [],
   "source": [
    "np.round(df_train.describe(), 2)"
   ]
  },
  {
   "cell_type": "markdown",
   "id": "94b112d7",
   "metadata": {
    "id": "94b112d7",
    "papermill": {
     "duration": null,
     "end_time": null,
     "exception": null,
     "start_time": null,
     "status": "pending"
    },
    "tags": []
   },
   "source": [
    "> Quick Summarize using pandas_profiling"
   ]
  },
  {
   "cell_type": "code",
   "execution_count": null,
   "id": "68637045",
   "metadata": {
    "execution": {
     "iopub.execute_input": "2022-05-27T10:25:00.315584Z",
     "iopub.status.busy": "2022-05-27T10:25:00.314591Z",
     "iopub.status.idle": "2022-05-27T10:25:01.057010Z",
     "shell.execute_reply": "2022-05-27T10:25:01.056255Z",
     "shell.execute_reply.started": "2022-05-27T10:25:00.315540Z"
    },
    "id": "68637045",
    "papermill": {
     "duration": null,
     "end_time": null,
     "exception": null,
     "start_time": null,
     "status": "pending"
    },
    "tags": []
   },
   "outputs": [],
   "source": [
    "groups = [pd.Grouper(key=\"transaction_time\", freq=\"1W\"), \"is_fraud\"]\n",
    "df_ = df_train.groupby(by=groups).agg({\"amount(usd)\":'mean',\"transaction_id\":\"count\"}).reset_index()"
   ]
  },
  {
   "cell_type": "code",
   "execution_count": null,
   "id": "e9f487ca",
   "metadata": {
    "execution": {
     "iopub.execute_input": "2022-05-27T10:25:01.061622Z",
     "iopub.status.busy": "2022-05-27T10:25:01.060929Z",
     "iopub.status.idle": "2022-05-27T10:25:01.069397Z",
     "shell.execute_reply": "2022-05-27T10:25:01.068514Z",
     "shell.execute_reply.started": "2022-05-27T10:25:01.061575Z"
    },
    "id": "e9f487ca",
    "papermill": {
     "duration": null,
     "end_time": null,
     "exception": null,
     "start_time": null,
     "status": "pending"
    },
    "tags": []
   },
   "outputs": [],
   "source": [
    "def add_traces(df, x, y,hue, mode, cmap, showlegend=None):\n",
    "    name_map = {1:\"Yes\", 0:\"No\"}\n",
    "    traces = []\n",
    "    for flag in df[hue].unique():\n",
    "        traces.append(\n",
    "            go.Scatter(\n",
    "                x=df[df[hue]==flag][x],\n",
    "                y=df[df[hue]==flag][y],\n",
    "                mode=mode,\n",
    "                marker=dict(color=cmap[flag]),\n",
    "                showlegend=showlegend,\n",
    "                name=name_map[flag]\n",
    "            )\n",
    "        )\n",
    "    return traces"
   ]
  },
  {
   "cell_type": "code",
   "execution_count": null,
   "id": "66d9c56a",
   "metadata": {
    "execution": {
     "iopub.execute_input": "2022-05-27T10:25:01.071273Z",
     "iopub.status.busy": "2022-05-27T10:25:01.070810Z",
     "iopub.status.idle": "2022-05-27T10:25:01.160826Z",
     "shell.execute_reply": "2022-05-27T10:25:01.159772Z",
     "shell.execute_reply.started": "2022-05-27T10:25:01.071230Z"
    },
    "id": "66d9c56a",
    "papermill": {
     "duration": null,
     "end_time": null,
     "exception": null,
     "start_time": null,
     "status": "pending"
    },
    "tags": []
   },
   "outputs": [],
   "source": [
    "fig = make_subplots(rows=2, cols=2,\n",
    "                    specs=[\n",
    "                        [{}, {}],\n",
    "                        [{\"colspan\":2}, None]\n",
    "                    ],\n",
    "                    subplot_titles=(\"Amount(usd) over time\", \"Number of transactions overtime\",\n",
    "                                    \"Number of transaction by amount(usd)\")\n",
    "                   )\n",
    "\n",
    "ntraces = add_traces(df=df_,x='transaction_time',y='amount(usd)',hue='is_fraud',mode='lines',\n",
    "                    showlegend=True, cmap=['#61E50F','#D93C1D'])\n",
    "\n",
    "for trace in ntraces:\n",
    "    fig.add_trace(\n",
    "        trace,\n",
    "        row=1,col=1\n",
    "    )\n",
    "    \n",
    "ntraces = add_traces(df=df_,x='transaction_time',y='transaction_id',hue='is_fraud',mode='lines',\n",
    "                    showlegend=False, cmap=['#61E50F','#D93C1D'])\n",
    "for trace in ntraces:\n",
    "    fig.add_trace(\n",
    "        trace,\n",
    "        row=1,col=2\n",
    "    )\n",
    "\n",
    "ntraces = add_traces(df=df_,x='transaction_id',y='amount(usd)',hue='is_fraud',mode='markers',\n",
    "                    showlegend=True, cmap=['#61E50F','#D93C1D'])\n",
    "for trace in ntraces:\n",
    "    fig.add_trace(\n",
    "        trace,\n",
    "        row=2,col=1\n",
    "    )\n",
    "\n",
    "fig.update_layout(height=780,\n",
    "                  width=960,\n",
    "                  legend=dict(title='Is fraud?'),\n",
    "                  plot_bgcolor='#fafafa',\n",
    "                  title='Overview'\n",
    "                 )\n",
    "\n",
    "fig.show()"
   ]
  },
  {
   "cell_type": "code",
   "execution_count": null,
   "id": "b82815fb",
   "metadata": {
    "execution": {
     "iopub.execute_input": "2022-05-27T10:25:01.162989Z",
     "iopub.status.busy": "2022-05-27T10:25:01.162562Z",
     "iopub.status.idle": "2022-05-27T10:25:02.626953Z",
     "shell.execute_reply": "2022-05-27T10:25:02.626227Z",
     "shell.execute_reply.started": "2022-05-27T10:25:01.162948Z"
    },
    "id": "b82815fb",
    "papermill": {
     "duration": null,
     "end_time": null,
     "exception": null,
     "start_time": null,
     "status": "pending"
    },
    "tags": []
   },
   "outputs": [],
   "source": [
    "df_ = df_train.groupby(by=[pd.Grouper(key=\"transaction_time\", freq=\"1W\"),\n",
    "                           'is_fraud','category']).agg({\"amount(usd)\":'mean',\"transaction_id\":\"count\"}).reset_index()\n",
    "\n",
    "fig = px.scatter(df_,\n",
    "        x='transaction_time',\n",
    "        y='amount(usd)',\n",
    "        color='is_fraud',\n",
    "        facet_col ='category',\n",
    "        facet_col_wrap=3,\n",
    "        facet_col_spacing=.04,\n",
    "        color_discrete_map={0:'#61E50F', 1:'#D93C1D'}\n",
    ")\n",
    "\n",
    "fig.update_layout(height=1400,\n",
    "                  width=960,\n",
    "                  legend=dict(title='Is fraud?'),\n",
    "                  plot_bgcolor='#fafafa'\n",
    "                 )\n",
    "\n",
    "fig.update_yaxes(matches=None)\n",
    "fig.for_each_yaxis(lambda yaxis: yaxis.update(showticklabels=True))\n",
    "fig.for_each_xaxis(lambda xaxis: xaxis.update(showticklabels=True, title=''))\n",
    "\n",
    "fig.show();"
   ]
  },
  {
   "cell_type": "code",
   "execution_count": null,
   "id": "069d405a",
   "metadata": {
    "execution": {
     "iopub.execute_input": "2022-05-27T10:25:02.628516Z",
     "iopub.status.busy": "2022-05-27T10:25:02.628189Z",
     "iopub.status.idle": "2022-05-27T10:25:03.601646Z",
     "shell.execute_reply": "2022-05-27T10:25:03.600798Z",
     "shell.execute_reply.started": "2022-05-27T10:25:02.628487Z"
    },
    "id": "069d405a",
    "papermill": {
     "duration": null,
     "end_time": null,
     "exception": null,
     "start_time": null,
     "status": "pending"
    },
    "tags": []
   },
   "outputs": [],
   "source": [
    "df_ = df_train.groupby(by=[pd.Grouper(key=\"transaction_time\", freq=\"1M\"),\n",
    "                           'is_fraud','category']).agg({\"amount(usd)\":'sum',\"transaction_id\":\"count\"}).reset_index()\n",
    "\n",
    "fig = px.area(\n",
    "    df_[df_.is_fraud==1],\n",
    "    x='transaction_time',\n",
    "    y='amount(usd)',\n",
    "    color='category',\n",
    "    color_discrete_sequence=px.colors.qualitative.Dark24\n",
    ")\n",
    "\n",
    "fig.update_layout(height=600,\n",
    "                  width=960,\n",
    "                  legend=dict(title='Categories'),\n",
    "                  plot_bgcolor='#fafafa'\n",
    "                 )\n",
    "\n",
    "fig.show();"
   ]
  },
  {
   "cell_type": "code",
   "execution_count": null,
   "id": "3b7a9391",
   "metadata": {
    "execution": {
     "iopub.execute_input": "2022-05-27T10:25:03.603688Z",
     "iopub.status.busy": "2022-05-27T10:25:03.603265Z",
     "iopub.status.idle": "2022-05-27T10:25:07.662863Z",
     "shell.execute_reply": "2022-05-27T10:25:07.661896Z",
     "shell.execute_reply.started": "2022-05-27T10:25:03.603648Z"
    },
    "id": "3b7a9391",
    "papermill": {
     "duration": null,
     "end_time": null,
     "exception": null,
     "start_time": null,
     "status": "pending"
    },
    "tags": []
   },
   "outputs": [],
   "source": [
    "# Specified list of 12 merchants with the highest number of transactions.\n",
    "top12_merchants = df_train.merchant.value_counts()[:12]\n",
    "\n",
    "df_ = df_train.groupby(by=[pd.Grouper(key=\"transaction_time\", freq=\"1W\"),'is_fraud',\n",
    "                           'merchant']).agg({\"amount(usd)\":'mean',\"transaction_id\":\"count\"}).reset_index()\n",
    "\n",
    "df_ = df_[df_.merchant.isin(top12_merchants.index)]"
   ]
  },
  {
   "cell_type": "code",
   "execution_count": null,
   "id": "ed796014",
   "metadata": {
    "execution": {
     "iopub.execute_input": "2022-05-27T10:25:07.665089Z",
     "iopub.status.busy": "2022-05-27T10:25:07.664630Z",
     "iopub.status.idle": "2022-05-27T10:25:08.098006Z",
     "shell.execute_reply": "2022-05-27T10:25:08.097077Z",
     "shell.execute_reply.started": "2022-05-27T10:25:07.665028Z"
    },
    "id": "ed796014",
    "papermill": {
     "duration": null,
     "end_time": null,
     "exception": null,
     "start_time": null,
     "status": "pending"
    },
    "tags": []
   },
   "outputs": [],
   "source": [
    "fig = px.scatter(df_,\n",
    "        x='transaction_time',\n",
    "        y='amount(usd)',\n",
    "        color='is_fraud',\n",
    "        facet_col ='merchant',\n",
    "        facet_col_wrap=3,\n",
    "        facet_col_spacing=.06,\n",
    "        category_orders={'merchant': top12_merchants.index}, # order the subplots\n",
    "        color_discrete_map={1:'#61E50F', 0:'#D93C1D'}\n",
    ")\n",
    "\n",
    "fig.update_layout(height=1200,\n",
    "                  width=960,\n",
    "                  title='Top 12 merchants with highest number of transactions per week',\n",
    "                  legend=dict(title='Is fraud?'),\n",
    "                  plot_bgcolor='#fafafa'\n",
    "                 )\n",
    "\n",
    "fig.update_yaxes(matches=None)\n",
    "fig.for_each_yaxis(lambda yaxis: yaxis.update(showticklabels=True))\n",
    "fig.for_each_xaxis(lambda xaxis: xaxis.update(showticklabels=True, title=''))\n",
    "\n",
    "fig.show();"
   ]
  },
  {
   "cell_type": "markdown",
   "id": "db77fb27",
   "metadata": {
    "id": "db77fb27",
    "papermill": {
     "duration": null,
     "end_time": null,
     "exception": null,
     "start_time": null,
     "status": "pending"
    },
    "tags": []
   },
   "source": [
    "2. Which jobs has most fraud transactions?"
   ]
  },
  {
   "cell_type": "code",
   "execution_count": null,
   "id": "1008956b",
   "metadata": {
    "execution": {
     "iopub.execute_input": "2022-05-27T10:25:08.099944Z",
     "iopub.status.busy": "2022-05-27T10:25:08.099428Z",
     "iopub.status.idle": "2022-05-27T10:25:08.513687Z",
     "shell.execute_reply": "2022-05-27T10:25:08.512695Z",
     "shell.execute_reply.started": "2022-05-27T10:25:08.099902Z"
    },
    "id": "1008956b",
    "papermill": {
     "duration": null,
     "end_time": null,
     "exception": null,
     "start_time": null,
     "status": "pending"
    },
    "tags": []
   },
   "outputs": [],
   "source": [
    "groups = ['is_fraud','job']\n",
    "df_ = df_train.groupby(by=groups).agg({\"amount(usd)\":'mean',\"transaction_id\":\"count\"}).fillna(0).reset_index()\n",
    "\n",
    "# Top 10 jobs had most fraud transactions.\n",
    "df_ = df_[df_.is_fraud==1].sort_values(by='transaction_id',\n",
    "                                       ascending=False).drop_duplicates('job', keep='first').iloc[:10, :]\n",
    "df_"
   ]
  },
  {
   "cell_type": "code",
   "execution_count": null,
   "id": "1f117ead",
   "metadata": {
    "execution": {
     "iopub.execute_input": "2022-05-27T10:25:08.516208Z",
     "iopub.status.busy": "2022-05-27T10:25:08.515302Z",
     "iopub.status.idle": "2022-05-27T10:25:08.602195Z",
     "shell.execute_reply": "2022-05-27T10:25:08.601191Z",
     "shell.execute_reply.started": "2022-05-27T10:25:08.516162Z"
    },
    "id": "1f117ead",
    "papermill": {
     "duration": null,
     "end_time": null,
     "exception": null,
     "start_time": null,
     "status": "pending"
    },
    "tags": []
   },
   "outputs": [],
   "source": [
    "fig = px.bar(df_,\n",
    "             y='job', x='transaction_id',\n",
    "             color='amount(usd)',\n",
    "             color_continuous_scale=px.colors.sequential.Magma,\n",
    "             labels={'job':'Job title', \n",
    "                     'transaction_id': 'Number of fraud transactions'},\n",
    "             category_orders = {\"job\": df_.job.values},\n",
    "             width=960,\n",
    "             height=600)\n",
    "\n",
    "fig.update_layout(\n",
    "    title=dict(\n",
    "        text='Amount(usd) among top 10 jobs with the most fraud transactions'\n",
    "    ),\n",
    "    plot_bgcolor='#fafafa'\n",
    ")\n",
    "\n",
    "fig.update_coloraxes(\n",
    "    colorbar=dict(\n",
    "        title='Amount(usd) of transactions',\n",
    "        orientation='h',\n",
    "        x=1\n",
    "    ),\n",
    "    reversescale=True\n",
    ")\n",
    "\n",
    "fig.show()"
   ]
  },
  {
   "cell_type": "markdown",
   "id": "3a2a160c",
   "metadata": {
    "id": "3a2a160c",
    "papermill": {
     "duration": null,
     "end_time": null,
     "exception": null,
     "start_time": null,
     "status": "pending"
    },
    "tags": []
   },
   "source": [
    "Which credit card number/ credit card holder has most fraud transaction?"
   ]
  },
  {
   "cell_type": "code",
   "execution_count": null,
   "id": "45d3dc20",
   "metadata": {
    "execution": {
     "iopub.execute_input": "2022-05-27T10:25:08.603837Z",
     "iopub.status.busy": "2022-05-27T10:25:08.603508Z",
     "iopub.status.idle": "2022-05-27T10:25:08.773544Z",
     "shell.execute_reply": "2022-05-27T10:25:08.772540Z",
     "shell.execute_reply.started": "2022-05-27T10:25:08.603808Z"
    },
    "id": "45d3dc20",
    "papermill": {
     "duration": null,
     "end_time": null,
     "exception": null,
     "start_time": null,
     "status": "pending"
    },
    "tags": []
   },
   "outputs": [],
   "source": [
    "groups = ['credit_card_number']\n",
    "df_ = df_train.groupby(by=groups).agg({\"amount(usd)\":'mean',\"transaction_id\":\"count\"}).fillna(0).reset_index()\n",
    "df_.sort_values('transaction_id', ascending=False, inplace=True)\n",
    "df_ = df_.head(10)"
   ]
  },
  {
   "cell_type": "code",
   "execution_count": null,
   "id": "c07783b3",
   "metadata": {
    "execution": {
     "iopub.execute_input": "2022-05-27T10:25:08.775227Z",
     "iopub.status.busy": "2022-05-27T10:25:08.774896Z",
     "iopub.status.idle": "2022-05-27T10:25:08.863277Z",
     "shell.execute_reply": "2022-05-27T10:25:08.862484Z",
     "shell.execute_reply.started": "2022-05-27T10:25:08.775200Z"
    },
    "id": "c07783b3",
    "papermill": {
     "duration": null,
     "end_time": null,
     "exception": null,
     "start_time": null,
     "status": "pending"
    },
    "tags": []
   },
   "outputs": [],
   "source": [
    "df_ = df_train[df_train.is_fraud==1].groupby(by='hour_of_day').agg({'transaction_id':'count'}).reset_index()\n",
    "\n",
    "fig = px.bar(data_frame=df_,\n",
    "       x='hour_of_day',\n",
    "       y='transaction_id',\n",
    "       labels={'transaction_id':'Number of transaction'})\n",
    "\n",
    "fig.update_layout(\n",
    "    title=dict(\n",
    "        text='Number of FRAUD transactions by hours of day'\n",
    "    ),\n",
    "    plot_bgcolor='#fafafa'\n",
    ")\n",
    "\n",
    "fig.update_xaxes(type='category')"
   ]
  },
  {
   "cell_type": "code",
   "execution_count": null,
   "id": "ae407596",
   "metadata": {
    "execution": {
     "iopub.execute_input": "2022-05-27T10:25:08.864963Z",
     "iopub.status.busy": "2022-05-27T10:25:08.864591Z",
     "iopub.status.idle": "2022-05-27T10:25:08.873507Z",
     "shell.execute_reply": "2022-05-27T10:25:08.872538Z",
     "shell.execute_reply.started": "2022-05-27T10:25:08.864926Z"
    },
    "id": "ae407596",
    "papermill": {
     "duration": null,
     "end_time": null,
     "exception": null,
     "start_time": null,
     "status": "pending"
    },
    "tags": []
   },
   "outputs": [],
   "source": [
    "df_train.dtypes"
   ]
  },
  {
   "cell_type": "code",
   "execution_count": null,
   "id": "ae5a2d1d",
   "metadata": {
    "execution": {
     "iopub.execute_input": "2022-05-27T10:25:08.875285Z",
     "iopub.status.busy": "2022-05-27T10:25:08.874794Z",
     "iopub.status.idle": "2022-05-27T10:25:09.940878Z",
     "shell.execute_reply": "2022-05-27T10:25:09.939532Z",
     "shell.execute_reply.started": "2022-05-27T10:25:08.875243Z"
    },
    "id": "ae5a2d1d",
    "papermill": {
     "duration": null,
     "end_time": null,
     "exception": null,
     "start_time": null,
     "status": "pending"
    },
    "tags": []
   },
   "outputs": [],
   "source": [
    "%matplotlib inline\n",
    "fig = plt.figure(figsize=(18,9))\n",
    "mask = np.triu(np.ones_like(df_train.corr()))\n",
    "sns.heatmap(df_train.corr(), mask=mask, cmap='coolwarm', annot=True)"
   ]
  },
  {
   "cell_type": "markdown",
   "id": "fb0df5a4",
   "metadata": {
    "id": "fb0df5a4",
    "papermill": {
     "duration": null,
     "end_time": null,
     "exception": null,
     "start_time": null,
     "status": "pending"
    },
    "tags": []
   },
   "source": [
    "Next, build the model to predict Fraud Transactions(label \"1\")   \n",
    "Target: The higher **F1-Score** for label 1, the better the model!"
   ]
  },
  {
   "cell_type": "markdown",
   "id": "98e78fe1",
   "metadata": {
    "id": "98e78fe1",
    "papermill": {
     "duration": null,
     "end_time": null,
     "exception": null,
     "start_time": null,
     "status": "pending"
    },
    "tags": []
   },
   "source": []
  },
  {
   "cell_type": "code",
   "execution_count": null,
   "id": "e1c16ce7",
   "metadata": {
    "id": "e1c16ce7",
    "papermill": {
     "duration": null,
     "end_time": null,
     "exception": null,
     "start_time": null,
     "status": "pending"
    },
    "tags": []
   },
   "outputs": [],
   "source": []
  },
  {
   "cell_type": "markdown",
   "id": "1456b654",
   "metadata": {
    "id": "1456b654",
    "papermill": {
     "duration": null,
     "end_time": null,
     "exception": null,
     "start_time": null,
     "status": "pending"
    },
    "tags": []
   },
   "source": [
    "# Model Building"
   ]
  },
  {
   "cell_type": "code",
   "execution_count": null,
   "id": "58630684",
   "metadata": {
    "execution": {
     "iopub.execute_input": "2022-12-30T12:53:34.092598Z",
     "iopub.status.busy": "2022-12-30T12:53:34.092116Z",
     "iopub.status.idle": "2022-12-30T12:53:34.121099Z",
     "shell.execute_reply": "2022-12-30T12:53:34.119830Z",
     "shell.execute_reply.started": "2022-12-30T12:53:34.092561Z"
    },
    "id": "58630684",
    "papermill": {
     "duration": null,
     "end_time": null,
     "exception": null,
     "start_time": null,
     "status": "pending"
    },
    "tags": []
   },
   "outputs": [],
   "source": [
    "fraud"
   ]
  },
  {
   "cell_type": "code",
   "execution_count": null,
   "id": "e0517566",
   "metadata": {
    "execution": {
     "iopub.execute_input": "2022-12-30T12:53:59.732474Z",
     "iopub.status.busy": "2022-12-30T12:53:59.732022Z",
     "iopub.status.idle": "2022-12-30T12:53:59.896688Z",
     "shell.execute_reply": "2022-12-30T12:53:59.895424Z",
     "shell.execute_reply.started": "2022-12-30T12:53:59.732437Z"
    },
    "id": "e0517566",
    "papermill": {
     "duration": null,
     "end_time": null,
     "exception": null,
     "start_time": null,
     "status": "pending"
    },
    "tags": []
   },
   "outputs": [],
   "source": [
    "# features = ['hour_of_day', 'category', 'amt', 'merchant', 'job']\n",
    "\n",
    "features = ['merchant', 'category', 'amt', 'gender', 'city', 'state', 'zip', 'lat',\n",
    "       'long', 'city_pop', 'job', 'unix_time', 'merch_lat', 'merch_long',\n",
    "        'age', 'trans_date', 'trans_time']\n",
    "\n",
    "#\n",
    "# X = df_train[features].set_index(\"transaction_id\")\n",
    "X = fraud[features]\n",
    "y = fraud['is_fraud']\n",
    "\n",
    "print('X shape:{}\\ny shape:{}'.format(X.shape,y.shape))"
   ]
  },
  {
   "cell_type": "code",
   "execution_count": null,
   "id": "2e466f81",
   "metadata": {
    "execution": {
     "iopub.execute_input": "2022-12-30T12:55:49.680466Z",
     "iopub.status.busy": "2022-12-30T12:55:49.679998Z",
     "iopub.status.idle": "2022-12-30T12:55:50.566476Z",
     "shell.execute_reply": "2022-12-30T12:55:50.565122Z",
     "shell.execute_reply.started": "2022-12-30T12:55:49.680428Z"
    },
    "id": "2e466f81",
    "papermill": {
     "duration": null,
     "end_time": null,
     "exception": null,
     "start_time": null,
     "status": "pending"
    },
    "tags": []
   },
   "outputs": [],
   "source": [
    "# Check distribution of few variables\n",
    "plt.figure(figsize=[15,8])\n",
    "plt.subplot(2,2,1)\n",
    "plt.title('Distribution of Amount', fontsize= 10, color = 'Red', fontweight = 100)\n",
    "plt.hist(X.amt)\n",
    "plt.subplot(2,2,2)\n",
    "plt.title('Distribution of Age', fontsize= 10, color = 'Red', fontweight = 100)\n",
    "plt.hist(X.age)\n",
    "plt.subplot(2,2,3)\n",
    "plt.title('Distribution of Zip', fontsize= 10, color = 'Red', fontweight = 100)\n",
    "plt.hist(X.zip)\n",
    "plt.subplot(2,2,4)\n",
    "plt.title('Distribution of trans_date', fontsize= 10, color = 'Red', fontweight = 100)\n",
    "plt.hist(X.trans_date)\n",
    "plt.show()"
   ]
  },
  {
   "cell_type": "code",
   "execution_count": null,
   "id": "be92854e",
   "metadata": {
    "execution": {
     "iopub.execute_input": "2022-12-30T12:56:26.409525Z",
     "iopub.status.busy": "2022-12-30T12:56:26.408888Z",
     "iopub.status.idle": "2022-12-30T12:56:26.417209Z",
     "shell.execute_reply": "2022-12-30T12:56:26.416142Z",
     "shell.execute_reply.started": "2022-12-30T12:56:26.409484Z"
    },
    "id": "be92854e",
    "papermill": {
     "duration": null,
     "end_time": null,
     "exception": null,
     "start_time": null,
     "status": "pending"
    },
    "tags": []
   },
   "outputs": [],
   "source": [
    "# Lets try various scalers available in Scikit library. At optimum time, will finalize one.\n",
    "# Based on various test results, QuantileTransformer with Gaussian distribution seems best suited.\n",
    "from sklearn.preprocessing import MinMaxScaler\n",
    "from sklearn.preprocessing import StandardScaler\n",
    "from sklearn.preprocessing import PowerTransformer\n",
    "from sklearn.preprocessing import QuantileTransformer\n",
    "from sklearn.preprocessing import RobustScaler\n",
    "#scaler = MinMaxScaler()\n",
    "#scaler = StandardScaler()\n",
    "#scaler = PowerTransformer()\n",
    "scaler = QuantileTransformer(output_distribution='normal')\n",
    "#scaler = RobustScaler()"
   ]
  },
  {
   "cell_type": "code",
   "execution_count": null,
   "id": "ea00a0b6",
   "metadata": {
    "execution": {
     "iopub.execute_input": "2022-12-30T12:58:23.222462Z",
     "iopub.status.busy": "2022-12-30T12:58:23.221999Z",
     "iopub.status.idle": "2022-12-30T12:58:28.984193Z",
     "shell.execute_reply": "2022-12-30T12:58:28.982901Z",
     "shell.execute_reply.started": "2022-12-30T12:58:23.222424Z"
    },
    "id": "ea00a0b6",
    "papermill": {
     "duration": null,
     "end_time": null,
     "exception": null,
     "start_time": null,
     "status": "pending"
    },
    "tags": []
   },
   "outputs": [],
   "source": [
    "# Scaling\n",
    "X = scaler.fit_transform(X)\n",
    "\n"
   ]
  },
  {
   "cell_type": "code",
   "execution_count": null,
   "id": "94d0fad7",
   "metadata": {
    "execution": {
     "iopub.execute_input": "2022-05-27T10:25:10.098917Z",
     "iopub.status.busy": "2022-05-27T10:25:10.098384Z",
     "iopub.status.idle": "2022-05-27T10:25:13.542392Z",
     "shell.execute_reply": "2022-05-27T10:25:13.541595Z",
     "shell.execute_reply.started": "2022-05-27T10:25:10.098887Z"
    },
    "id": "94d0fad7",
    "papermill": {
     "duration": null,
     "end_time": null,
     "exception": null,
     "start_time": null,
     "status": "pending"
    },
    "tags": []
   },
   "outputs": [],
   "source": [
    "# from sklearn.preprocessing import OrdinalEncoder\n",
    "\n",
    "# enc = OrdinalEncoder(dtype=np.int64)\n",
    "# enc.fit(X.loc[:,['category','merchant','job']])\n",
    "\n",
    "# X.loc[:, ['category','merchant','job']] = enc.transform(X[['category','merchant','job']])"
   ]
  },
  {
   "cell_type": "code",
   "execution_count": null,
   "id": "875a2fc3",
   "metadata": {
    "execution": {
     "iopub.execute_input": "2022-05-27T10:25:13.544099Z",
     "iopub.status.busy": "2022-05-27T10:25:13.543715Z",
     "iopub.status.idle": "2022-05-27T10:25:13.547805Z",
     "shell.execute_reply": "2022-05-27T10:25:13.547065Z",
     "shell.execute_reply.started": "2022-05-27T10:25:13.544068Z"
    },
    "id": "875a2fc3",
    "papermill": {
     "duration": null,
     "end_time": null,
     "exception": null,
     "start_time": null,
     "status": "pending"
    },
    "tags": []
   },
   "outputs": [],
   "source": [
    "#X[['category','merchant','job']]"
   ]
  },
  {
   "cell_type": "code",
   "execution_count": null,
   "id": "6ec73b55",
   "metadata": {
    "execution": {
     "iopub.execute_input": "2022-05-27T10:25:13.549463Z",
     "iopub.status.busy": "2022-05-27T10:25:13.548982Z",
     "iopub.status.idle": "2022-05-27T10:25:13.561388Z",
     "shell.execute_reply": "2022-05-27T10:25:13.560584Z",
     "shell.execute_reply.started": "2022-05-27T10:25:13.549432Z"
    },
    "id": "6ec73b55",
    "papermill": {
     "duration": null,
     "end_time": null,
     "exception": null,
     "start_time": null,
     "status": "pending"
    },
    "tags": []
   },
   "outputs": [],
   "source": [
    "# from sklearn.feature_selection import SelectKBest\n",
    "# from sklearn.feature_selection import chi2\n",
    "\n",
    "# def select_features(X_train, y_train, X_test):\n",
    "#     fs = SelectKBest(score_func=chi2, k='all')\n",
    "#     fs.fit(X_train, y_train)\n",
    "#     X_train_fs = fs.transform(X_train)\n",
    "#     X_test_fs = fs.transform(X_test)\n",
    "#     return X_train_fs, X_test_fs, fs"
   ]
  },
  {
   "cell_type": "code",
   "execution_count": null,
   "id": "b1689362",
   "metadata": {
    "execution": {
     "iopub.execute_input": "2022-12-30T12:58:45.126099Z",
     "iopub.status.busy": "2022-12-30T12:58:45.125704Z",
     "iopub.status.idle": "2022-12-30T12:58:45.914980Z",
     "shell.execute_reply": "2022-12-30T12:58:45.913656Z",
     "shell.execute_reply.started": "2022-12-30T12:58:45.126058Z"
    },
    "id": "b1689362",
    "papermill": {
     "duration": null,
     "end_time": null,
     "exception": null,
     "start_time": null,
     "status": "pending"
    },
    "tags": []
   },
   "outputs": [],
   "source": [
    "X_train, X_test, y_train, y_test = train_test_split(X, y, test_size=0.2, stratify=y)\n",
    "print('X_train shape:{}\\ny_train shape:{}'.format(X_train.shape,y_train.shape))\n",
    "print('X_test shape:{}\\ny_test shape:{}'.format(X_test.shape,y_test.shape))"
   ]
  },
  {
   "cell_type": "code",
   "execution_count": null,
   "id": "0cd2e102",
   "metadata": {
    "execution": {
     "iopub.execute_input": "2022-12-30T12:58:55.234461Z",
     "iopub.status.busy": "2022-12-30T12:58:55.234047Z",
     "iopub.status.idle": "2022-12-30T12:59:30.342234Z",
     "shell.execute_reply": "2022-12-30T12:59:30.341356Z",
     "shell.execute_reply.started": "2022-12-30T12:58:55.234431Z"
    },
    "id": "0cd2e102",
    "papermill": {
     "duration": null,
     "end_time": null,
     "exception": null,
     "start_time": null,
     "status": "pending"
    },
    "tags": []
   },
   "outputs": [],
   "source": [
    "from sklearn.tree import DecisionTreeClassifier\n",
    "\n",
    "dcstree = DecisionTreeClassifier(random_state=42)\n",
    "dcstree.fit(X_train, y_train)\n",
    "\n",
    "y_pred = dcstree.predict(X_test)"
   ]
  },
  {
   "cell_type": "code",
   "execution_count": null,
   "id": "1453de12",
   "metadata": {
    "execution": {
     "iopub.execute_input": "2022-12-30T12:59:34.280359Z",
     "iopub.status.busy": "2022-12-30T12:59:34.279571Z",
     "iopub.status.idle": "2022-12-30T12:59:34.589885Z",
     "shell.execute_reply": "2022-12-30T12:59:34.588495Z",
     "shell.execute_reply.started": "2022-12-30T12:59:34.280313Z"
    },
    "id": "1453de12",
    "papermill": {
     "duration": null,
     "end_time": null,
     "exception": null,
     "start_time": null,
     "status": "pending"
    },
    "tags": []
   },
   "outputs": [],
   "source": [
    "fig = plt.figure(figsize=(8,6))\n",
    "cfs_matrix = confusion_matrix(y_test, y_pred)\n",
    "sns.heatmap(cfs_matrix, cmap='viridis', annot=True, fmt='d', annot_kws=dict(fontsize=14))"
   ]
  },
  {
   "cell_type": "code",
   "execution_count": null,
   "id": "ec67e1e8",
   "metadata": {
    "execution": {
     "iopub.execute_input": "2022-12-30T12:59:38.006281Z",
     "iopub.status.busy": "2022-12-30T12:59:38.005892Z",
     "iopub.status.idle": "2022-12-30T12:59:38.424130Z",
     "shell.execute_reply": "2022-12-30T12:59:38.423144Z",
     "shell.execute_reply.started": "2022-12-30T12:59:38.006252Z"
    },
    "id": "ec67e1e8",
    "papermill": {
     "duration": null,
     "end_time": null,
     "exception": null,
     "start_time": null,
     "status": "pending"
    },
    "tags": []
   },
   "outputs": [],
   "source": [
    "print(classification_report(y_test, y_pred))"
   ]
  },
  {
   "cell_type": "markdown",
   "id": "809c2ba3",
   "metadata": {
    "id": "809c2ba3",
    "papermill": {
     "duration": null,
     "end_time": null,
     "exception": null,
     "start_time": null,
     "status": "pending"
    },
    "tags": []
   },
   "source": [
    "With DecisionTree we have F1-Score = **0.84** for label 1 "
   ]
  },
  {
   "cell_type": "markdown",
   "id": "300d32dc",
   "metadata": {
    "id": "300d32dc",
    "papermill": {
     "duration": null,
     "end_time": null,
     "exception": null,
     "start_time": null,
     "status": "pending"
    },
    "tags": []
   },
   "source": [
    "**SMOTE**"
   ]
  },
  {
   "cell_type": "code",
   "execution_count": null,
   "id": "d7a60b66",
   "metadata": {
    "execution": {
     "iopub.execute_input": "2022-12-30T12:59:55.494875Z",
     "iopub.status.busy": "2022-12-30T12:59:55.493823Z",
     "iopub.status.idle": "2022-12-30T12:59:55.643861Z",
     "shell.execute_reply": "2022-12-30T12:59:55.642361Z",
     "shell.execute_reply.started": "2022-12-30T12:59:55.494834Z"
    },
    "id": "d7a60b66",
    "papermill": {
     "duration": null,
     "end_time": null,
     "exception": null,
     "start_time": null,
     "status": "pending"
    },
    "tags": []
   },
   "outputs": [],
   "source": [
    "print(\"Before SMOTE:\", Counter(y_train))"
   ]
  },
  {
   "cell_type": "code",
   "execution_count": null,
   "id": "68de080c",
   "metadata": {
    "execution": {
     "iopub.execute_input": "2022-12-30T13:01:36.976115Z",
     "iopub.status.busy": "2022-12-30T13:01:36.975696Z",
     "iopub.status.idle": "2022-12-30T13:01:38.634848Z",
     "shell.execute_reply": "2022-12-30T13:01:38.633314Z",
     "shell.execute_reply.started": "2022-12-30T13:01:36.976085Z"
    },
    "id": "68de080c",
    "papermill": {
     "duration": null,
     "end_time": null,
     "exception": null,
     "start_time": null,
     "status": "pending"
    },
    "tags": []
   },
   "outputs": [],
   "source": [
    "from imblearn.over_sampling import SMOTE\n",
    "smote = SMOTE(sampling_strategy={1:48050}, random_state=42)\n",
    "\n",
    "X_train_smote, y_train_smote = smote.fit_resample(X_train.astype('float'), y_train)\n",
    "print(\"Before SMOTE:\", Counter(y_train))\n",
    "print(\"After SMOTE:\", Counter(y_train_smote))"
   ]
  },
  {
   "cell_type": "code",
   "execution_count": null,
   "id": "619209e8",
   "metadata": {
    "execution": {
     "iopub.execute_input": "2022-12-30T13:01:38.637799Z",
     "iopub.status.busy": "2022-12-30T13:01:38.636933Z",
     "iopub.status.idle": "2022-12-30T13:01:38.647770Z",
     "shell.execute_reply": "2022-12-30T13:01:38.646376Z",
     "shell.execute_reply.started": "2022-12-30T13:01:38.637753Z"
    },
    "id": "619209e8",
    "papermill": {
     "duration": null,
     "end_time": null,
     "exception": null,
     "start_time": null,
     "status": "pending"
    },
    "tags": []
   },
   "outputs": [],
   "source": [
    "class test_model:\n",
    "    from sklearn.metrics import classification_report\n",
    "    def __init__(self):\n",
    "        self.metrics = ['prfs','auc','acc']\n",
    "\n",
    "    def fit_predict(model, X_train, X_test, y_train, y_test):\n",
    "        model = model\n",
    "        model.fit(X_train, y_train) #Fit data to model\n",
    "        y_pred = model.predict(X_test)\n",
    "        return y_pred\n",
    "    \n",
    "    def evaluate(y_pred, metrics):\n",
    "        results = {}\n",
    "        for metric in metrics:\n",
    "            if metric == 'prfs':\n",
    "                prfs = classification_report(y_test, y_pred)\n",
    "                results['prfs'] = prfs\n",
    "            elif metric =='auc':\n",
    "                auc_score = roc_auc_score(y_test, y_pred)\n",
    "                results['auc'] = auc_score\n",
    "            elif metric =='acc':\n",
    "                results['acc'] = accuracy_score(y_test, y_pred)\n",
    "            else:\n",
    "                print('Not available metric!')\n",
    "        return results"
   ]
  },
  {
   "cell_type": "code",
   "execution_count": null,
   "id": "fc693e01",
   "metadata": {
    "execution": {
     "iopub.execute_input": "2022-12-30T13:01:39.280900Z",
     "iopub.status.busy": "2022-12-30T13:01:39.280491Z",
     "iopub.status.idle": "2022-12-30T13:17:11.401592Z",
     "shell.execute_reply": "2022-12-30T13:17:11.400369Z",
     "shell.execute_reply.started": "2022-12-30T13:01:39.280870Z"
    },
    "id": "fc693e01",
    "papermill": {
     "duration": null,
     "end_time": null,
     "exception": null,
     "start_time": null,
     "status": "pending"
    },
    "tags": []
   },
   "outputs": [],
   "source": [
    "from sklearn.ensemble import RandomForestClassifier\n",
    "\n",
    "# Specify your metric here\n",
    "metrics = ['prfs']\n",
    "print(\"=====================SMOTE=====================\")\n",
    "RDForest_eval = test_model.evaluate(y_pred=test_model.fit_predict(RandomForestClassifier(random_state=42),\n",
    "                                                                  X_train_smote,\n",
    "                                                                  X_test,\n",
    "                                                                  y_train_smote,\n",
    "                                                                  y_test\n",
    "                                                                 ),\n",
    "                                    metrics=metrics\n",
    "                                    )\n",
    "\n",
    "print(\"Random Forest model evaluate:\\n\", RDForest_eval['prfs'])"
   ]
  },
  {
   "cell_type": "markdown",
   "id": "80bf4afb",
   "metadata": {
    "id": "80bf4afb",
    "papermill": {
     "duration": null,
     "end_time": null,
     "exception": null,
     "start_time": null,
     "status": "pending"
    },
    "tags": []
   },
   "source": [
    "With RandomForestClassifier we have better **F1-Score = 0.88** for label 1."
   ]
  },
  {
   "cell_type": "markdown",
   "id": "d227fe6b",
   "metadata": {
    "id": "d227fe6b",
    "papermill": {
     "duration": null,
     "end_time": null,
     "exception": null,
     "start_time": null,
     "status": "pending"
    },
    "tags": []
   },
   "source": [
    "Try tuning some important Hyperparameters for RDF"
   ]
  },
  {
   "cell_type": "code",
   "execution_count": null,
   "id": "a42d4390",
   "metadata": {
    "execution": {
     "iopub.execute_input": "2022-12-30T13:21:54.407638Z",
     "iopub.status.busy": "2022-12-30T13:21:54.407205Z",
     "iopub.status.idle": "2022-12-30T13:21:54.416614Z",
     "shell.execute_reply": "2022-12-30T13:21:54.415462Z",
     "shell.execute_reply.started": "2022-12-30T13:21:54.407603Z"
    },
    "id": "a42d4390",
    "papermill": {
     "duration": null,
     "end_time": null,
     "exception": null,
     "start_time": null,
     "status": "pending"
    },
    "tags": []
   },
   "outputs": [],
   "source": [
    "# Number of trees in random forest\n",
    "n_estimators = [int(x) for x in np.linspace(start = 100, stop = 200, num = 4)]\n",
    "# Number of features to consider at every split\n",
    "max_features = ['auto', 'sqrt']\n",
    "# Maximum number of levels in tree\n",
    "max_depth = [int(x) for x in np.linspace(10, 50, num = 5)]\n",
    "max_depth.append(None)\n",
    "# Minimum number of samples required to split a node\n",
    "min_samples_split = [2, 5, 10]\n",
    "# Minimum number of samples required at each leaf node\n",
    "min_samples_leaf = [1, 2, 4]\n",
    "\n",
    "# Create the random grid\n",
    "random_grid = {'n_estimators': n_estimators,\n",
    "               'max_features': max_features,\n",
    "               'max_depth': max_depth,\n",
    "               'min_samples_split': min_samples_split,\n",
    "               'min_samples_leaf': min_samples_leaf\n",
    "              }\n",
    "\n",
    "print(random_grid)"
   ]
  },
  {
   "cell_type": "code",
   "execution_count": null,
   "id": "bdc59cd0",
   "metadata": {
    "execution": {
     "iopub.execute_input": "2022-12-30T13:22:05.123449Z",
     "iopub.status.busy": "2022-12-30T13:22:05.122980Z",
     "iopub.status.idle": "2022-12-30T13:22:05.128842Z",
     "shell.execute_reply": "2022-12-30T13:22:05.127773Z",
     "shell.execute_reply.started": "2022-12-30T13:22:05.123381Z"
    },
    "id": "bdc59cd0",
    "papermill": {
     "duration": null,
     "end_time": null,
     "exception": null,
     "start_time": null,
     "status": "pending"
    },
    "tags": []
   },
   "outputs": [],
   "source": [
    "from sklearn.metrics import f1_score, make_scorer\n",
    "f1 = make_scorer(f1_score, greater_is_better=True, pos_label=1)"
   ]
  },
  {
   "cell_type": "markdown",
   "id": "b462cda6",
   "metadata": {
    "id": "b462cda6",
    "papermill": {
     "duration": null,
     "end_time": null,
     "exception": null,
     "start_time": null,
     "status": "pending"
    },
    "tags": []
   },
   "source": [
    "The best estimator on randomized_search:  \n",
    "RandomForestClassifier(max_features='sqrt', n_estimators=200)"
   ]
  },
  {
   "cell_type": "code",
   "execution_count": null,
   "id": "9cadb74c",
   "metadata": {
    "execution": {
     "iopub.execute_input": "2022-12-30T13:22:30.872440Z",
     "iopub.status.busy": "2022-12-30T13:22:30.872019Z",
     "iopub.status.idle": "2022-12-30T13:48:00.542822Z",
     "shell.execute_reply": "2022-12-30T13:48:00.541590Z",
     "shell.execute_reply.started": "2022-12-30T13:22:30.872386Z"
    },
    "id": "9cadb74c",
    "papermill": {
     "duration": null,
     "end_time": null,
     "exception": null,
     "start_time": null,
     "status": "pending"
    },
    "tags": []
   },
   "outputs": [],
   "source": [
    "rf_random = RandomForestClassifier(max_features='sqrt',\n",
    "                                   n_estimators=200,\n",
    "                                   random_state=41\n",
    "                                   )\n",
    "\n",
    "rf_random.fit(X_train, y_train)\n",
    "y_pred = rf_random.predict(X_test)\n",
    "\n",
    "# Print reprort\n",
    "print(classification_report(y_test, y_pred))"
   ]
  },
  {
   "cell_type": "markdown",
   "id": "9ad640a7",
   "metadata": {
    "id": "9ad640a7",
    "papermill": {
     "duration": null,
     "end_time": null,
     "exception": null,
     "start_time": null,
     "status": "pending"
    },
    "tags": []
   },
   "source": [
    "After tuning, we have **F1-Score = 0.8** for label 1, atually good :)"
   ]
  },
  {
   "cell_type": "markdown",
   "id": "b971cd21",
   "metadata": {
    "id": "b971cd21",
    "papermill": {
     "duration": null,
     "end_time": null,
     "exception": null,
     "start_time": null,
     "status": "pending"
    },
    "tags": []
   },
   "source": [
    "****Test Data Prediction****"
   ]
  },
  {
   "cell_type": "code",
   "execution_count": null,
   "id": "361ca250",
   "metadata": {
    "execution": {
     "iopub.execute_input": "2022-12-30T13:20:53.822552Z",
     "iopub.status.busy": "2022-12-30T13:20:53.821545Z",
     "iopub.status.idle": "2022-12-30T13:20:56.362692Z",
     "shell.execute_reply": "2022-12-30T13:20:56.361450Z",
     "shell.execute_reply.started": "2022-12-30T13:20:53.822509Z"
    },
    "id": "361ca250",
    "papermill": {
     "duration": null,
     "end_time": null,
     "exception": null,
     "start_time": null,
     "status": "pending"
    },
    "tags": []
   },
   "outputs": [],
   "source": [
    "fraud_test = scaler.fit_transform(fraud_test)"
   ]
  },
  {
   "cell_type": "code",
   "execution_count": null,
   "id": "8430d13d",
   "metadata": {
    "id": "8430d13d",
    "papermill": {
     "duration": null,
     "end_time": null,
     "exception": null,
     "start_time": null,
     "status": "pending"
    },
    "tags": []
   },
   "outputs": [],
   "source": [
    "features = ['merchant', 'category', 'amt', 'gender', 'city', 'state', 'zip', 'lat',\n",
    "       'long', 'city_pop', 'job', 'unix_time', 'merch_lat', 'merch_long',\n",
    "        'age', 'trans_date', 'trans_time']\n",
    "\n",
    "#\n",
    "# X = df_train[features].set_index(\"transaction_id\")\n",
    "fraud_test = fraud_test[features]"
   ]
  },
  {
   "cell_type": "code",
   "execution_count": null,
   "id": "fe0a47cf",
   "metadata": {
    "execution": {
     "iopub.execute_input": "2022-12-30T14:03:37.095588Z",
     "iopub.status.busy": "2022-12-30T14:03:37.095131Z",
     "iopub.status.idle": "2022-12-30T14:03:37.105345Z",
     "shell.execute_reply": "2022-12-30T14:03:37.103710Z",
     "shell.execute_reply.started": "2022-12-30T14:03:37.095546Z"
    },
    "id": "fe0a47cf",
    "papermill": {
     "duration": null,
     "end_time": null,
     "exception": null,
     "start_time": null,
     "status": "pending"
    },
    "tags": []
   },
   "outputs": [],
   "source": [
    "fraud_test"
   ]
  },
  {
   "cell_type": "code",
   "execution_count": null,
   "id": "c8eb7728",
   "metadata": {
    "execution": {
     "iopub.execute_input": "2022-12-30T14:03:17.144709Z",
     "iopub.status.busy": "2022-12-30T14:03:17.143484Z",
     "iopub.status.idle": "2022-12-30T14:03:17.200688Z",
     "shell.execute_reply": "2022-12-30T14:03:17.198770Z",
     "shell.execute_reply.started": "2022-12-30T14:03:17.144658Z"
    },
    "id": "c8eb7728",
    "papermill": {
     "duration": null,
     "end_time": null,
     "exception": null,
     "start_time": null,
     "status": "pending"
    },
    "tags": []
   },
   "outputs": [],
   "source": [
    "y_pred  = rf_random.predict(fraud_test)\n",
    "y_proba = rf_random.predict_proba(fraud_test)[:, 1]"
   ]
  },
  {
   "cell_type": "code",
   "execution_count": null,
   "id": "9755a0af",
   "metadata": {
    "execution": {
     "iopub.execute_input": "2022-05-27T10:36:12.022509Z",
     "iopub.status.busy": "2022-05-27T10:36:12.021912Z",
     "iopub.status.idle": "2022-05-27T10:36:12.030817Z",
     "shell.execute_reply": "2022-05-27T10:36:12.029834Z",
     "shell.execute_reply.started": "2022-05-27T10:36:12.022458Z"
    },
    "id": "9755a0af",
    "papermill": {
     "duration": null,
     "end_time": null,
     "exception": null,
     "start_time": null,
     "status": "pending"
    },
    "tags": []
   },
   "outputs": [],
   "source": [
    "df_test[\"Fraud_Proba\"] = y_proba\n",
    "df_test[\"Fraud_Predict\"] = y_pred"
   ]
  },
  {
   "cell_type": "code",
   "execution_count": null,
   "id": "cffa4513",
   "metadata": {
    "execution": {
     "iopub.execute_input": "2022-05-27T10:36:12.032709Z",
     "iopub.status.busy": "2022-05-27T10:36:12.032244Z",
     "iopub.status.idle": "2022-05-27T10:36:13.497236Z",
     "shell.execute_reply": "2022-05-27T10:36:13.496065Z",
     "shell.execute_reply.started": "2022-05-27T10:36:12.032658Z"
    },
    "id": "cffa4513",
    "papermill": {
     "duration": null,
     "end_time": null,
     "exception": null,
     "start_time": null,
     "status": "pending"
    },
    "tags": []
   },
   "outputs": [],
   "source": [
    "result = df_test[[\"Fraud_Proba\", \"Fraud_Predict\"]]\n",
    "# Store result in a CSV file \n",
    "result.to_csv(r\"./PredictFraud_Result.csv\")"
   ]
  },
  {
   "cell_type": "code",
   "execution_count": null,
   "id": "dddb1051",
   "metadata": {},
   "outputs": [],
   "source": []
  },
  {
   "cell_type": "code",
   "execution_count": null,
   "id": "2b2d757e",
   "metadata": {},
   "outputs": [],
   "source": []
  }
 ],
 "metadata": {
  "colab": {
   "provenance": []
  },
  "kernelspec": {
   "display_name": "Python 3 (ipykernel)",
   "language": "python",
   "name": "python3"
  },
  "language_info": {
   "codemirror_mode": {
    "name": "ipython",
    "version": 3
   },
   "file_extension": ".py",
   "mimetype": "text/x-python",
   "name": "python",
   "nbconvert_exporter": "python",
   "pygments_lexer": "ipython3",
   "version": "3.9.13"
  },
  "papermill": {
   "default_parameters": {},
   "duration": 115.859869,
   "end_time": "2022-12-30T14:06:56.080702",
   "environment_variables": {},
   "exception": true,
   "input_path": "__notebook__.ipynb",
   "output_path": "__notebook__.ipynb",
   "parameters": {},
   "start_time": "2022-12-30T14:05:00.220833",
   "version": "2.3.4"
  }
 },
 "nbformat": 4,
 "nbformat_minor": 5
}
